{
 "cells": [
  {
   "cell_type": "code",
   "execution_count": null,
   "metadata": {},
   "outputs": [],
   "source": [
    "#ignore\n",
    "import random\n",
    "import numpy as np\n",
    "import pandas as pd\n",
    "import panel as pn\n",
    "import holoviews as hv\n",
    "\n",
    "pn.extension('vtk')"
   ]
  },
  {
   "cell_type": "markdown",
   "metadata": {},
   "source": [
    "We are very pleased to announce the 0.7.0 release of Panel which brings a ton of new features, enhancements and many important bug fixes. Many thanks to the 20 contributors to this release (listed at the bottom). This release introduced only minimal changes in existing APIs, indicating that Panel is progressing towards a more stable phase of development. One of the major goals in this release was better compatibility with the Jupyter ecosystem, which culminated in the ipywidgets support. The next major release will be the 1.0 release, which will involve some minor API cleanup and a number of long anticipated features, including a number of polished inbuilt templates and the ability to serve existing Jupyter widgets as part of a Panel app.  \n",
    "\n",
    "### **Major features**:\n",
    "\n",
    "* Ability to render any Panel output as an ipywidget model (#745, #755, #771)\n",
    "* Added `.jscallback` method to Viewable objects (#665)\n",
    "\n",
    "### **New components**:\n",
    "\n",
    "#### Widgets\n",
    "\n",
    "* Added new ``Progress`` bar widget (#726)\n",
    "* Added new ``DataFrame`` editing widget (#767)\n",
    "* Added new ``PasswordInput`` widget (#655)\n",
    "* Added new ``TextAreaInput`` widget (#658)\n",
    "\n",
    "#### Panes\n",
    "\n",
    "* Added new ``DataFrame`` pane with the ability to render pandas, dask and streamz dataframes (#560, #751)\n",
    "* Added new ``Streamz`` pane (#767, #769)\n",
    "* Added new ``VTKVolume`` pane (#605, #606, #715, #729)\n",
    "* Added new ``Video`` pane (#696)\n",
    "\n",
    "#### Layouts\n",
    "\n",
    "* Added new `GridBox` layout (#608, #761, #763)\n",
    "* Added new `Divider` component (#756)\n",
    "\n",
    "### **Enhancements**:\n",
    "\n",
    "* Major improvements to the `Pipeline` object to allow branching graphs (#712, #735, #737, #770)\n",
    "* Ability to bi-directionally link objects in Javascript using `.jslink` (#764)\n",
    "* Make Row/Column scrollable (#760)\n",
    "* Added repr and a kill_all_servers method to pn.io.state.state (#697)\n",
    "* Templates can now render inside a notebook cell (#666)\n",
    "* WidgetBox can be disabled programmatically (#532)\n",
    "\n",
    "### **API Changes**:\n",
    "\n",
    "* The ``Audio`` widget has been deprecated in favor of a `Audio` pane. (#696)\n",
    "\n",
    "\n",
    "<hr>\n",
    "\n",
    "If you are using [Anaconda](https://www.anaconda.com/downloads), you can get latest Panel with ``conda install -c pyviz panel`` , and using pip you can install it with ``pip install panel``.\n",
    "\n",
    "<hr>"
   ]
  },
  {
   "cell_type": "markdown",
   "metadata": {},
   "source": [
    "## ipywidget support\n",
    "\n",
    "Panel is built on top of bokeh which ships with its own standalone server and has always provided integration in Jupyter. Panel itself has relied on some custom extensions for Jupyter support which don't necessarily work in some non-standard notebook and Jupyter environments such as the recently released [Voilà](https://github.com/voila-dashboards/voila) dashboard server. After working with the Jupyter and Bokeh developers we have now released the `jupyter_bokeh` library and extension which allows displaying Bokeh and Panel models as ipywidgets and therefore ensures that bi-directional communication works in any environment that supports the Jupyter widget protocol.\n",
    "\n",
    "In Panel we can enable this globally using **`pn.extension(comm='ipywidgets')`** or by explicitly converting objects to an ipywidget using **`pn.ipywidget(obj)`**."
   ]
  },
  {
   "cell_type": "code",
   "execution_count": null,
   "metadata": {},
   "outputs": [],
   "source": [
    "import ipywidgets as ipw\n",
    "\n",
    "accordion = ipw.Accordion(children=[\n",
    "    pn.ipywidget(pn.Column(\n",
    "        pn.widgets.FloatSlider(),\n",
    "        pn.widgets.TextInput()\n",
    "    )),\n",
    "    pn.ipywidget(hv.Curve([1, 2, 3])),\n",
    "    pn.ipywidget(hv.Area([1, 2, 3]).opts(responsive=True, min_height=300))\n",
    "])\n",
    "\n",
    "accordion.set_title(0, 'Widgets')\n",
    "accordion.set_title(1, 'Curve')\n",
    "accordion.set_title(2, 'Area')"
   ]
  },
  {
   "cell_type": "markdown",
   "metadata": {},
   "source": [
    "<center><img src=\"./images/accordion.png\" width=\"80%\"></center>"
   ]
  },
  {
   "cell_type": "markdown",
   "metadata": {},
   "source": [
    "## Support for .jscallback and improved .jslink\n",
    "\n",
    "Panel has long had support for linking the parameters of two objects in Javascript using the `.jslink` method. In  this release `.jslink` can now be invoked bi-directionally:"
   ]
  },
  {
   "cell_type": "code",
   "execution_count": null,
   "metadata": {},
   "outputs": [],
   "source": [
    "kwargs = dict(start=0, end=1, step=0.1, align='center')\n",
    "slider = pn.widgets.FloatSlider(name='Slider', **kwargs)\n",
    "spinner = pn.widgets.Spinner(name='Spinner', **kwargs)\n",
    "\n",
    "slider.jslink(spinner, value='value', bidirectional=True)\n",
    "\n",
    "pn.Row(slider, spinner)"
   ]
  },
  {
   "cell_type": "markdown",
   "metadata": {},
   "source": [
    "Additionally the `.jscallback` method has been added to generate arbitrary callbacks in response to some change to a property:"
   ]
  },
  {
   "cell_type": "code",
   "execution_count": null,
   "metadata": {},
   "outputs": [],
   "source": [
    "value1 =   pn.widgets.Spinner(value=0, width=75)\n",
    "operator = pn.widgets.Select(value='*', options=['*', '+'], width=50, align='center')\n",
    "value2 =   pn.widgets.Spinner(value=0, width=75)\n",
    "button =   pn.widgets.Button(name='=', width=50)\n",
    "result =   pn.widgets.StaticText(value='0', width=50, align='center')\n",
    "\n",
    "button.jscallback(clicks=\"\"\"\n",
    "if (op.value == '*') \n",
    "  result.text = (v1.value * v2.value).toString()\n",
    "else\n",
    "  result.text = (v1.value + v2.value).toString()\n",
    "\"\"\", args={'op': operator, 'result': result, 'v1': value1, 'v2': value2})\n",
    "\n",
    "pn.Row(value1, operator, value2, button, result)"
   ]
  },
  {
   "cell_type": "markdown",
   "metadata": {},
   "source": [
    "## Improved Pipelines\n",
    "\n",
    "Previously the [``Pipeline`` class](https://panel.pyviz.org/user_guide/Pipelines.html) allowed setting up linear pipelines to implement a multi-stage workflow. The ``Pipeline`` class was completely overhauled in this release to make it easy to lay out the individual components yourself and most importantly to set up an arbitrary graph of pipeline stages, e.g. pipelines now allow diverging and converging branches for more flexible workflows than before. Below is the definition and the overview of a complex graph based pipeline with diverging and converging stages:\n",
    "\n",
    "```python\n",
    "dag = pn.pipeline.Pipeline()\n",
    "\n",
    "dag.add_stage('Input', Input)\n",
    "dag.add_stage('Multiply', Multiply)\n",
    "dag.add_stage('Add', Add)\n",
    "dag.add_stage('Result', Result)\n",
    "dag.add_stage('Export', Export)\n",
    "\n",
    "dag.define_graph({'Input': ('Multiply', 'Add'), 'Multiply': 'Result', 'Add': 'Result', 'Result': 'Export'})\n",
    "```"
   ]
  },
  {
   "cell_type": "markdown",
   "metadata": {},
   "source": [
    "<center><img src=\"./images/pipelines.png\" style=\"margin: auto\" width=\"90%\"></center>"
   ]
  },
  {
   "cell_type": "markdown",
   "metadata": {},
   "source": [
    "## Improved Templates\n",
    "\n",
    "Since Panel 0.6.0 it has been possible to declare custom [Templates](https://panel.pyviz.org/user_guide/Templates.html) to take full control over the layout and visual styling of the application or dashboard. In this release we now support rendering custom templates in a notebook and even declaring separate templates for notebook and server usage. In the next release we will focus on providing a number of custom templates built on common JS/CSS frameworks such as Materialize UI, GridStack, and reveal.js.\n",
    "\n",
    "<center><img src=\"./images/materialize.png\" style=\"margin: auto\" width=\"90%\"></center>"
   ]
  },
  {
   "cell_type": "markdown",
   "metadata": {},
   "source": [
    "## New Components\n",
    "\n",
    "This release includes a variety of new components contributing to the growing set of widgets, panes and layouts showcased in the [reference gallery](https://panel.pyviz.org/reference/index.html)."
   ]
  },
  {
   "cell_type": "markdown",
   "metadata": {},
   "source": [
    "#### Progress bars\n",
    "\n",
    "The [``Progress`` widget](http://panel.pyviz.org/reference/widgets/Progress.html) displays the progress towards some target based on the current `value` and the `max` value. If no `value` is set the ``Progress`` widget is in indeterminate mode and will animate depending on the ``active`` parameter state."
   ]
  },
  {
   "cell_type": "code",
   "execution_count": null,
   "metadata": {},
   "outputs": [],
   "source": [
    "#ignore\n",
    "running = pn.Column(*[\n",
    "    pn.Row(pn.panel(bs, width=100), pn.widgets.misc.Progress(width=300, value=10+i*10, bar_color=bs), pn.widgets.misc.Progress(width=300, bar_color=bs))\n",
    "        for i, bs in enumerate(pn.widgets.misc.Progress.param.bar_color.objects)\n",
    "])\n",
    "running"
   ]
  },
  {
   "cell_type": "markdown",
   "metadata": {},
   "source": [
    "#### DataFrame widget\n",
    " \n",
    "The [``DataFrame`` widget](http://panel.pyviz.org/reference/widgets/DataFrame.html) allows editing an existing pandas DataFrame using a custom `DataTable`."
   ]
  },
  {
   "cell_type": "code",
   "execution_count": null,
   "metadata": {},
   "outputs": [],
   "source": [
    "import pandas as pd\n",
    "\n",
    "df = pd.DataFrame({'int': [1, 2, 3], 'float': [3.14, 6.28, 9.42], 'str': ['A', 'B', 'C']}, index=[1, 2, 3])\n",
    "\n",
    "pn.widgets.DataFrame(df, widths={'index': 10, 'int': 10, 'float': 50, 'str': 100}, width=200)"
   ]
  },
  {
   "cell_type": "markdown",
   "metadata": {},
   "source": [
    "#### PasswordInput & TextAreaInput widgets\n",
    "\n",
    "New [``PasswordInput``](http://panel.pyviz.org/reference/widgets/PasswordInput.html) and [``TextAreaInput``](http://panel.pyviz.org/reference/widgets/TextAreaInput.html) make it possible to enter hidden text and provide multi-line text inputs to Panel:"
   ]
  },
  {
   "cell_type": "code",
   "execution_count": null,
   "metadata": {},
   "outputs": [],
   "source": [
    "#ignore\n",
    "password_input = pn.widgets.PasswordInput(name='Password Input', placeholder='Enter a string here...')\n",
    "text_area = pn.widgets.TextAreaInput(name='Text Area Input', placeholder='Enter a string here...', height=100)\n",
    "\n",
    "pn.Row(password_input, text_area)"
   ]
  },
  {
   "cell_type": "markdown",
   "metadata": {},
   "source": [
    "#### DataFrame Pane\n",
    "\n",
    "The [`DataFrame` pane](http://panel.pyviz.org/reference/panes/DataFrame.html) renders pandas, dask and streamz dataframes while exposing a range of options to control the formatting."
   ]
  },
  {
   "cell_type": "markdown",
   "metadata": {},
   "source": [
    "<img src=\"./images/streamz_dataframe.gif\"></img>"
   ]
  },
  {
   "cell_type": "markdown",
   "metadata": {},
   "source": [
    "#### Streamz Pane\n",
    "\n",
    "The Streamz pane accepts any [streamz](https://github.com/python-streamz/streamz) Stream to allow streaming arbitrary objects, e.g. the [basic example](https://panel.pyviz.org/reference/panes/Streamz.html) in the documentation demonstrates how to quickly put together a streaming vega plot:\n",
    "\n",
    "<center><img src=\"./images/streamz_vega.gif\" width=\"40%\"></center>"
   ]
  },
  {
   "cell_type": "markdown",
   "metadata": {},
   "source": [
    "#### Video Pane\n",
    "\n",
    "The [``Video`` pane](https://panel.pyviz.org/reference/pane/Video.html)  uses a standard HTML5 media player widget to display any mp4, webm or ogg video file. Like the corresponding ``Audio`` pane the current timestamp, volume and play state can be toggled from Python and Javascript:"
   ]
  },
  {
   "cell_type": "code",
   "execution_count": null,
   "metadata": {},
   "outputs": [],
   "source": [
    "video = pn.pane.Video('https://sample-videos.com/video123/mp4/720/big_buck_bunny_720p_1mb.mp4',\n",
    "                      width=640, height=480)\n",
    "\n",
    "video"
   ]
  },
  {
   "cell_type": "markdown",
   "metadata": {},
   "source": [
    "#### VTKVolume\n",
    "\n",
    "The [VTKVolume pane](https://pyviz-dev.github.io/panel/reference/panes/VTKVolume.html) uses the vtk.js library to render interactive, volumetric plots with control over opacity and the color curve."
   ]
  },
  {
   "cell_type": "markdown",
   "metadata": {},
   "source": [
    "<center><img src=\"./images/vtkjs.gif\" style=\"margin: auto;\" style=\"margin: auto\" width=\"90%\"></img></center>"
   ]
  },
  {
   "cell_type": "markdown",
   "metadata": {},
   "source": [
    "#### GridBox layout\n",
    "\n",
    "The [``GridBox`` layout](https://panel.pyviz.org/reference/layouts/GridBox.html) compliments the existing `Row`, `Column`, `Tabs` and `GridSpec` layouts in that it allows wrapping the list of items provided to it by the desired number of rows or columns:"
   ]
  },
  {
   "cell_type": "code",
   "execution_count": null,
   "metadata": {},
   "outputs": [],
   "source": [
    "rcolor = lambda: \"#%06x\" % random.randint(0, 0xFFFFFF)\n",
    "\n",
    "box = pn.GridBox(*[pn.pane.HTML(background=rcolor(), width=50, height=50) for i in range(22)], ncols=4)"
   ]
  },
  {
   "cell_type": "code",
   "execution_count": null,
   "metadata": {},
   "outputs": [],
   "source": [
    "#ignore\n",
    "slider = pn.widgets.IntSlider(name='ncols', start=4, end=8)\n",
    "slider.link(box, value='ncols')\n",
    "\n",
    "pn.Column(slider, box).embed(max_opts=6)"
   ]
  },
  {
   "cell_type": "markdown",
   "metadata": {},
   "source": [
    "#### Divider\n",
    "\n",
    "The new ``Divider`` component also nicely complements the existing `Spacer` components making it easy to draw a visual divider between vertically stacked components."
   ]
  },
  {
   "cell_type": "code",
   "execution_count": null,
   "metadata": {},
   "outputs": [],
   "source": [
    "pn.Column(\n",
    "    pn.layout.Divider(),\n",
    "    pn.Row(pn.layout.HSpacer(), '# Title', pn.layout.HSpacer()),\n",
    "    pn.layout.Divider()\n",
    ")"
   ]
  },
  {
   "cell_type": "markdown",
   "metadata": {},
   "source": [
    "## Contributors\n",
    "\n",
    "Many thanks to the many contributors to this release:\n",
    "    \n",
    "* Philipp Rudiger (@philippjfr): Maintainer & lead developer\n",
    "* Xavier Artusi (@xavArtley): VTK support\n",
    "* James A. Bednar (@jbednar): Documentation\n",
    "* Andrew Tolmie (@DancingQuanta): FileInput widget\n",
    "* Arne Recknagel (@a-recknagel): Python 3.8 support, build improvements\n",
    "* Julius Winkelmann (@julwin): TextAreaInput, PasswordInput\n",
    "* Pav A (@rs2): Example notebooks\n",
    "* Ed Jung (@xtaje): Default values fix\n",
    "* Karthick Perumal (@Karamya): Audio widget enhancements\n",
    "* Christopher Ball (@ceball): Build and doc improvements\n",
    "* Andrew Huang (@ahuang11): Disabling widget boxes\n",
    "* Eduardo Gonzalez (@eddienko): Fixing Django docs\n",
    "* Jacob Barhak (@Jacob-Barhak): Updated Markdown docs\n",
    "* Jean-Luc Stevens (@jstevens): Cross-selector fixes\n",
    "* Julia Signell (@jsignell): Documentation fixes\n",
    "* Landung \"Don\" Setiawan (@lsetiawan): StoppableThread improvements\n",
    "* Mateusz Paprocki (@mattpap): Build infrastructure\n",
    "* Maxime Borry (@maxibor): Widget fixes\n",
    "* Stefan Farmbauer (@RedBeardCode): File-like object support on images\n",
    "* @kleavor: Fixed GridSpec override behavior"
   ]
  }
 ],
 "metadata": {
  "kernelspec": {
   "display_name": "Python 3",
   "language": "python",
   "name": "python3"
  },
  "language_info": {
   "codemirror_mode": {
    "name": "ipython",
    "version": 3
   },
   "file_extension": ".py",
   "mimetype": "text/x-python",
   "name": "python",
   "nbconvert_exporter": "python",
   "pygments_lexer": "ipython3",
   "version": "3.7.4"
  }
 },
 "nbformat": 4,
 "nbformat_minor": 4
}
