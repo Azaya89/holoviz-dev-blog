{
 "cells": [
  {
   "cell_type": "markdown",
   "metadata": {},
   "source": [
    "<img src=\"./images/panel-wm.png\" width=\"180px\"></img>\n",
    "\n",
    "**A high-level app and dashboarding solution for the PyData ecosystem.**\n",
    "\n",
    "**Author**: Philipp Rudiger"
   ]
  },
  {
   "cell_type": "markdown",
   "metadata": {},
   "source": [
    "Panel is a new open-source Python library that lets you create custom interactive web apps and dashboards by connecting user-defined widgets to plots, images, tables, or text. It is the culmination of our multi-year effort to connect data scientists with tools for deploying the output of their analysis and models with internal or external consumers of the analysis without having to learn completely different technology stacks or getting into the weeds of web development. Panel can already be installed using both ``conda install -c pyviz panel`` and ``pip install panel``, like all other PyViz projects it is entirely open-source and BSD-3 licensed. To get started visit the website [here](https://panel.pyviz.org) and find the Panel code on GitHub [here](https://github.com/pyviz/panel).\n",
    "\n",
    "The main aim behind Panel was to make it it as easy asp possible to wrap the outputs of existing tools in the PyData ecosystems in a Panel to generate a deployed apps or dashboard, ensuring that users can seamlessly work with the analysis and visualization tools they are already familiar with. Secondly, Panel aims to make it trivial to go from prototyping a little app to deploying it internally within an organization or sharing it publicly with the entire internet."
   ]
  },
  {
   "cell_type": "markdown",
   "metadata": {},
   "source": [
    "#### Fast iteration\n",
    "\n",
    "<img src=\"./images/panel_diagram.png\" width=\"85%\" style=\"margin-left: auto; margin-right: auto; display: block;\"></img>\n",
    "\n",
    "In our consulting work at Anaconda Inc. we have repeatedly seen the pain involved in turning some analysis code into insights that can easily be shared with decision makers within an organization or the general public. Because the technologies involved are often very different there are often different teams working on the prototyping and development phase and the teams involved in deploying an app which can be used by non-technical people. This introduces a huge amount of friction as minor tweaks need to be communicated between teams, increasing the length of the iteration cycle exponentially. Panel aims to address this by providing simple APIs to connect the outputs of an analysis using the PyData stack with widgets and other interactive components to make insights accessible to a wide audience.\n",
    "\n",
    "Most importantly, Panel apps can be built entirely within the Jupyter notebook where a lot of modern data science happens and after an iteration process to slowly polish and improve the app or dashboard it can then be deployed in a scalable way on a bokeh server instance simply by annotating the objects to be deployed with the ``.servable()`` method. The process of developing an app with Panel can therefore generally be broken down into a small number of steps:\n",
    "\n",
    "* Perform some analysis in a notebook\n",
    "* Wrap the output of your analysis in Panel objects, developing individual components which can be shared\n",
    "* Connect the individual analysis outputs with widgets and other interactive components\n",
    "* Display these components in the notebook and iterate until you are happy with the result\n",
    "* Apply styling using CSS or inbuilt bokeh styling options\n",
    "* Test how the app or dashboard looks as a standalone component by adding ``.show()``\n",
    "* Make the app or dashboard deployable by annotating the components to be deployed with ``.servable()``\n",
    "\n",
    "This quick iteration between prototyping in a notebook and then deploying the final product is incredibly powerful and thanks to the power of Bokeh all the complex layout and styling options translate seamlessly between the different environments."
   ]
  },
  {
   "cell_type": "markdown",
   "metadata": {},
   "source": [
    "#### Flexible APIs\n",
    "\n",
    "To demonstrate the power of Panel let us look at one of the simplest possible apps, a stock explorer app implemented in just a few lines code ([view the source here](https://pyviz-dev.github.io/panel/gallery/apis/stocks_hvplot.html)):\n",
    "\n",
    "<div style=\"font-color: lightgray; font-size: 1em;\">\n",
    "  <img src=\"./images/stock_explorer_opt.gif\" width=\"70%\" style=\"margin-left: auto; margin-right: auto; display: block;\"></img>\n",
    "  <center>A simple Panel app implemented in <a href=\"https://pyviz-dev.github.io/panel/gallery/apis/stocks_hvplot.html\">just a few lines of Python code</a>.</center>\n",
    "</div>\n",
    "<br>\n",
    "\n",
    "As you can observe in the code, Panel provides a number of different abstraction layers to write this kind of app . To get a quick overview let us look at the three most common APIs for building apps outlined in the [user guide](https://pyviz-dev.github.io/panel/user_guide/APIs.html).\n",
    "\n",
    "##### Interact\n",
    "\n",
    "The simplest approach to building an app is the ``interact`` function familiar to users of [ipywidgets](https://ipywidgets.readthedocs.io/en/stable/), which makes it very simple to create a set of widgets and some visual output from a simple function, e.g. the following pattern will generate a dropdown menu and display it next to a plot:\n",
    "\n",
    "```python\n",
    "def plot(ticker):\n",
    "    ...\n",
    "    return plot_object\n",
    "\n",
    "pn.interact(plot, ticker=['AAPL', ...])\n",
    "```\n",
    "\n",
    "Since Panel is compositional we can index into the layout returned by the function, making it very simple to write basic apps and lay them out precisely how you want.\n",
    "\n",
    "##### Reactive\n",
    "\n",
    "The ``interact`` approach builds on the idea of reactive programming, but has additional magic that automatically creates widgets for you. The more explicit approach provided by Panel is to use the ``pn.depends`` decorator to declare the inputs to a function and then manually compose the widgets and outputs:\n",
    "\n",
    "```python\n",
    "ticker = pn.widgets.Select(options=['AAPL', ...])\n",
    "\n",
    "@pn.depends(ticker.param.value)\n",
    "def plot(ticker):\n",
    "    ...\n",
    "    return plot_obj\n",
    "\n",
    "pn.Row(ticker, plot)\n",
    "```\n",
    "\n",
    "Thanks to the reactive programming model which underlies Panel, the plot will update whenever any of the declared dependencies of the function change.\n",
    "\n",
    "##### Callbacks\n",
    "\n",
    "To achieve full control over updates to different components it is also possible to define specific callbacks when a parameter on a Panel component changes which in turn can modify other components, e.g. panel ``Row``, ``Column`` and ``Tabs`` layouts which act just like lists, making them familiar to anyone who knows just the basics of Python programming:\n",
    "\n",
    "```python\n",
    "\n",
    "row = pn.Row('Empty')\n",
    "select = pn.widgets.Select(options=['AAPL', ...])\n",
    "\n",
    "def cb(event):\n",
    "    ...\n",
    "    row[0] = bokeh_fig # Replace a component\n",
    "\n",
    "select.param.watch(cb, 'value')\n",
    "```\n",
    "\n",
    "These three different approaches ensure that users have access to just the right level of control needed for a particular use case and can build dashboards of any complexity."
   ]
  },
  {
   "cell_type": "markdown",
   "metadata": {},
   "source": [
    "#### Compatibility with the Python ecosystem\n",
    "\n",
    "Compared to many other Python dashboarding frameworks, Panel is novel in that it supports nearly all common Python plotting libraries and automatically chooses the appropriate representation for basic Python types and other objects in the Python ecosystem. A straightforward example is a Pandas dataframe, which will automatically be given the rich HTML representation users will be familiar with when working inside a notebook environment.\n",
    "\n",
    "In the previous example we rendered the plot using hvPlot (and Bokeh) but the same example works just as well with [matplotlib](https://pyviz-dev.github.io/panel/gallery/apis/stocks_matplotlib.html), [altair](https://pyviz-dev.github.io/panel/gallery/apis/stocks_altair.html) or [Plotly](https://pyviz-dev.github.io/panel/gallery/apis/stocks_plotly.html). To demonstrate this let us look at an example showing four plots of the [Gapminder data](https://www.gapminder.org/) implemented using each of these libraries displayed in one dashboard: \n",
    "\n",
    "<div style=\"font-color: lightgray; font-size: 1em;\">\n",
    "  <a href=\"https://gapminder.pyviz.demo.anaconda.com/\"><img src=\"./images/gapminder_opt.gif\" width=\"70%\" style=\"margin-left: auto; margin-right: auto; display: block;\"></img></a>\n",
    "  <center>Gapminder data visualized using hvPlot (Bokeh), altair (Vega), Matplotlib and Plotly in one dashboard (Click the image to try out the deployed app).</center>\n",
    "</div>\n",
    "<br>\n",
    "\n"
   ]
  },
  {
   "cell_type": "markdown",
   "metadata": {},
   "source": [
    "#### Dynamic dashboards\n",
    "\n",
    "Another important aspect when designing Panel was the ability to build dynamic dashboards where components can easily be added, removed or updated. This makes it possible to build complex dashboards, including multi-stage processing pipelines. In the example below we build an object recognition and classification tool from a number of independent stages, which are connected into a single pipeline:\n",
    "\n",
    "<video width=\"640\" height=\"480\" style=\"margin-left: auto; margin-right: auto; display: block;\" controls>\n",
    "  <source src=\"images/classifier.mp4\" type=\"video/mp4\">\n",
    "  Your browser does not support the video tag.\n",
    "</video>\n",
    "\n",
    "<br>\n",
    "\n",
    "The ability to dynamically update and replace individual components or the entire content of the app opens up the flexibility to build everything from dynamic UIs to entire multi-stage, data processing pipelines as demonstrated above."
   ]
  },
  {
   "cell_type": "markdown",
   "metadata": {},
   "source": [
    "#### Broad and expanding library of components\n",
    "\n",
    "Panel ships with a wide array of components providing a large set of widgets, a number of powerful layout components and most importantly a collection of so called Pane objects which provide a view of some underlying object, e.g. a plot, image or dataframe.\n",
    "\n",
    "<img src=\"./images/panel_components.png\" width=\"80%\" style=\"margin-left: auto; margin-right: auto; display: block;\"></img>\n",
    "\n",
    "Since Panel is built on Bokeh it is straightforward to extend it with additional custom models implemented in Javascript but more simply users can implement Pane classes to give custom objects a visual representation. In this way Panel can easily be extended to visualize objects of almost any type and provide useful representations for objects they use in their day-to-day work."
   ]
  },
  {
   "cell_type": "markdown",
   "metadata": {},
   "source": [
    "#### Layouts and styling\n",
    "\n",
    "Since Panel is built on top of Bokeh it exposes the incredibly powerful layout engine built into the library and also provides the ability to style different components directly, using Bokeh themes or, when more control is required, using CSS. This makes it possible to build dashboard which resize reactively to the current size of the browser window and with highly customized styles. As an example take a look at the Datashader dashboard below with a responsively resizing plot and custom dark-theme styling:\n",
    "\n",
    "<img src=\"./images/datashader_dashboard_resize_small_opt.gif\" width=\"70%\" style=\"margin-left: auto; margin-right: auto; display: block;\"></img>"
   ]
  },
  {
   "cell_type": "markdown",
   "metadata": {},
   "source": [
    "### Deployment\n",
    "\n",
    "The final piece that was very important to us when designing Panel was that the deployment story should be straightforward. Thanks to Bokeh Server large parts of this problem was already solved, providing us with Websocket communication with support for binary transfer, as well as streaming and patching data. Since a large part of the story is the quick iteration cycle we therefore focused on making the transition from displaying dashboards or dashboard components in a Jupyter notebook to deploying it as a standalone app as simple as possible. A Jupyter notebook containing Panel objects can now be easily deployed as an app just by adding ``.servable()`` to one or more of the panel objects.\n",
    "\n",
    "Over the coming weeks we will also add detailed guides to explain the deployment procedure on different platforms whether that is Google Cloud, AWS, Heroku or Anaconda Enterprise."
   ]
  },
  {
   "cell_type": "markdown",
   "metadata": {},
   "source": [
    "## Architecture\n",
    "\n",
    "Panel is built on top of two main libraries:\n",
    "\n",
    "* [Bokeh](https://bokeh.pydata.org/en/latest/) providing the model-view-controller framework on which Panel is built and many of the core components such as the widgets and layout engine\n",
    "* [Param](https://github.com/pyviz/param) providing a framework for reactive parameters which are used to define all Panel components.\n",
    "\n",
    "The choice of building an API on top of Bokeh instead of simply extending it was driven by a number of core requirements. One of the most important was the ability to transition seamlessly between notebook and deployed server contexts and doing so efficiently and in a scalable way. Another was the flexibility afforded by being able to dynamically generate a bokeh representation for each view of a Panel object, encouraging reuse and composability of components. Most importantly however we wanted to design an API that provides a high degree of flexibility but also a great degree of simplicity. Many of the most common operations for displaying, to saving and serving a dashboard are exposed directly on Panel objects. Additionally updating and even dynamically adding/removing or replacing of the indvidual components of a dashboard are as easy as manipulating a list or dictionary in Python. Panel should however not be seen to be in competition with Bokeh, it simply provides higher-level abstractions on top of Bokeh. If needed Bokeh components can easily be used from within Panel and Panel components can easily be converted into bokeh models which can be embedded in a regular Bokeh application."
   ]
  },
  {
   "cell_type": "markdown",
   "metadata": {},
   "source": [
    "## Prior Art\n",
    "\n",
    "Panel is a very new library in this space but it is heavily inspired by existing concepts and technologies that have in many cases been around for decades. The three main inspirations for Panel were R's [Shiny](http://shiny.rstudio.com/) library, Jupyter's [ipywidgets](https://ipywidgets.readthedocs.io/en/stable/) library and Plotly's [Dash](https://plot.ly/products/dash/) and we owe all three libraries/ecosystems a ton of gratitude for pioneering.\n",
    "\n",
    "### Shiny\n",
    "\n",
    "For anyone who performs analysis in the R programming language, Shiny provides an incredibly powerful and well polished framework for building web applications. It sets an incredibly high bar, which Panel has taken large amounts of inspiration from. In particular the reactive patterns in Panel are closely modeled on Shiny and Panel hopes to provide a similarly easy entrypoint for developing web applications in the Python ecosystem. Despite the similarities Panel is not merely a Shiny clone for Python, in addition to the different constraints imposed by a different language, Panel takes a more explicit approach toward the UI layout, which is usually separated into a separate file from the business logic in Shiny.\n",
    "\n",
    "### Jupyter/ipywidgets\n",
    "\n",
    "The Jupyter ecosystem has led to an explosion in the ability to share and disseminate the results of analysis and been a major driver in pushing Python as the most important programming language in scientific analysis, data science and machine learning. Within the Jupyter ecosystem the ipywidgets library has provided the foundation for building interactive components and embedding them in a notebook. The community that has developed around this ecosystem has been a huge inspiration and many core ideas in Panel are built on concepts popularized by these libraries, including the ability of objects to display themselves with rich representations and easily defining links between components in JS code. The main difference between Panel and the Jupyter ecosystem is that Panel is not closely coupled to the IPython kernel, which runs the interactive computations. Panel runs well both inside Jupyter and as a standalone application.\n",
    "\n",
    "### Dash\n",
    "\n",
    "Over the last two years the Python ecosystem has gained a powerful dashboarding framework in the form of Plotly's Dash library. Dash allows building very complex and highly polished applications straight from Python and is also built on a reactive programming model, which along with Shiny was a big inspirations for some features in Panel. While both libraries operate in the same space we see some distinction between the two, building a Dash app often requires more detailed knowledge of low-level web development, while Panel allows users to simply drop in their components. Additionally Dash is naturally more focused on providing support for embedding Plotly plots in a dashboard while Panel aims to stay agnostic about the tools a user should use to perform their analyses."
   ]
  },
  {
   "cell_type": "markdown",
   "metadata": {},
   "source": [
    "## Open source license & Community\n",
    "\n",
    "Panel like all other PyViz projects is BSD licensed and therefore free to use and modify by anyone and everyone. We built Panel to make our consulting work easier and make the individuals in those organization more power, but developing something among a small group of developers only goes so far. We believe everyone benefits when communities join their efforts to build tools together. So if you are interested in contributing to Panel or even just have suggestions for features, fixes and improvements [join us on GitHub](https://github.com/pyviz/panel).\n",
    "\n",
    "Thanks for checking out Panel, we will be giving a talk and tutorial about it at [SciPy 2019](https://www.scipy2019.scipy.org/) in July and are actively working on building further materials including demos, tutorials and examples in the coming weeks and months!"
   ]
  },
  {
   "cell_type": "markdown",
   "metadata": {},
   "source": [
    "## Further resources\n",
    "\n",
    "* Our documentation is hosted at https://panel.pyviz.org\n",
    "* The main development repository for Panel is on [GitHub](https://github.com/pyviz/panel)\n",
    "* Join us on Twitter [@PyViz_org](https://twitter.com/PyViz_org)\n",
    "* Find a collection of demos and examples on [GitHub](https://github.com/pyviz-topics/examples)\n",
    "\n",
    "### Talks\n",
    "\n",
    "* [Easy Dashboards for Any Visualization in AE5, with Panel](https://www.youtube.com/watch?v=DZREg1quQ_k)\n",
    "* [Rapid Prototyping and Deployment Using the PyViz Stack and Anaconda Enterprise](https://www.youtube.com/watch?v=zUOoVKgLLGY)\n",
    "* [Visualizing & Analyzing Earth Science Data Using PyViz & PyData](https://www.youtube.com/watch?v=-XMXNmGRk5c)"
   ]
  }
 ],
 "metadata": {
  "kernelspec": {
   "display_name": "Python 3",
   "language": "python",
   "name": "python3"
  },
  "language_info": {
   "codemirror_mode": {
    "name": "ipython",
    "version": 3
   },
   "file_extension": ".py",
   "mimetype": "text/x-python",
   "name": "python",
   "nbconvert_exporter": "python",
   "pygments_lexer": "ipython3",
   "version": "3.6.8"
  }
 },
 "nbformat": 4,
 "nbformat_minor": 2
}
