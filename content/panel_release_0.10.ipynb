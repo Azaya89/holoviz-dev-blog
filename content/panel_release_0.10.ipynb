{
 "cells": [
  {
   "cell_type": "code",
   "execution_count": 1,
   "metadata": {},
   "outputs": [
    {
     "data": {
      "application/javascript": [
       "\n",
       "(function(root) {\n",
       "  function now() {\n",
       "    return new Date();\n",
       "  }\n",
       "\n",
       "  var force = true;\n",
       "\n",
       "  if (typeof root._bokeh_onload_callbacks === \"undefined\" || force === true) {\n",
       "    root._bokeh_onload_callbacks = [];\n",
       "    root._bokeh_is_loading = undefined;\n",
       "  }\n",
       "\n",
       "  if (typeof (root._bokeh_timeout) === \"undefined\" || force === true) {\n",
       "    root._bokeh_timeout = Date.now() + 5000;\n",
       "    root._bokeh_failed_load = false;\n",
       "  }\n",
       "\n",
       "  function run_callbacks() {\n",
       "    try {\n",
       "      root._bokeh_onload_callbacks.forEach(function(callback) {\n",
       "        if (callback != null)\n",
       "          callback();\n",
       "      });\n",
       "    } finally {\n",
       "      delete root._bokeh_onload_callbacks\n",
       "    }\n",
       "    console.debug(\"Bokeh: all callbacks have finished\");\n",
       "  }\n",
       "\n",
       "  function load_libs(css_urls, js_urls, callback) {\n",
       "    if (css_urls == null) css_urls = [];\n",
       "    if (js_urls == null) js_urls = [];\n",
       "\n",
       "    root._bokeh_onload_callbacks.push(callback);\n",
       "    if (root._bokeh_is_loading > 0) {\n",
       "      console.debug(\"Bokeh: BokehJS is being loaded, scheduling callback at\", now());\n",
       "      return null;\n",
       "    }\n",
       "    if (js_urls == null || js_urls.length === 0) {\n",
       "      run_callbacks();\n",
       "      return null;\n",
       "    }\n",
       "    console.debug(\"Bokeh: BokehJS not loaded, scheduling load and callback at\", now());\n",
       "    root._bokeh_is_loading = css_urls.length + js_urls.length;\n",
       "\n",
       "    function on_load() {\n",
       "      root._bokeh_is_loading--;\n",
       "      if (root._bokeh_is_loading === 0) {\n",
       "        console.debug(\"Bokeh: all BokehJS libraries/stylesheets loaded\");\n",
       "        run_callbacks()\n",
       "      }\n",
       "    }\n",
       "\n",
       "    function on_error() {\n",
       "      console.error(\"failed to load \" + url);\n",
       "    }\n",
       "\n",
       "    for (var i = 0; i < css_urls.length; i++) {\n",
       "      var url = css_urls[i];\n",
       "      const element = document.createElement(\"link\");\n",
       "      element.onload = on_load;\n",
       "      element.onerror = on_error;\n",
       "      element.rel = \"stylesheet\";\n",
       "      element.type = \"text/css\";\n",
       "      element.href = url;\n",
       "      console.debug(\"Bokeh: injecting link tag for BokehJS stylesheet: \", url);\n",
       "      document.body.appendChild(element);\n",
       "    }\n",
       "\n",
       "    var skip = [];\n",
       "    if (window.requirejs) {\n",
       "      window.requirejs.config({'baseUrl': 'https://cdn.jsdelivr.net/npm/', 'paths': {'echarts': 'echarts@4.8.0/dist/echarts.min'}});\n",
       "      require([], function() {\n",
       "      })\n",
       "    }\n",
       "    if (((window['echarts'] !== undefined) && (!(window['echarts'] instanceof HTMLElement))) || window.requirejs) {\n",
       "      var urls = ['https://cdn.jsdelivr.net/npm/echarts@4.8.0/dist/echarts.min.js'];\n",
       "      for (var i = 0; i < urls.length; i++) {\n",
       "        skip.push(urls[i])\n",
       "      }\n",
       "    }\n",
       "    for (var i = 0; i < js_urls.length; i++) {\n",
       "      var url = js_urls[i];\n",
       "      if (skip.indexOf(url) >= 0) { on_load(); continue; }\n",
       "\t  console.log(url)\n",
       "      var element = document.createElement('script');\n",
       "      element.onload = on_load;\n",
       "      element.onerror = on_error;\n",
       "      element.async = false;\n",
       "      element.src = url;\n",
       "      console.debug(\"Bokeh: injecting script tag for BokehJS library: \", url);\n",
       "      document.head.appendChild(element);\n",
       "    }\n",
       "\tif (!js_urls.length) {\n",
       "      on_load()\n",
       "    }\n",
       "  };\n",
       "\n",
       "  function inject_raw_css(css) {\n",
       "    const element = document.createElement(\"style\");\n",
       "    element.appendChild(document.createTextNode(css));\n",
       "    document.body.appendChild(element);\n",
       "  }\n",
       "\n",
       "  var js_urls = [\"https://cdn.jsdelivr.net/npm/echarts@4.8.0/dist/echarts.min.js\", \"https://cdn.bokeh.org/bokeh/release/bokeh-2.2.2.min.js\", \"https://cdn.bokeh.org/bokeh/release/bokeh-widgets-2.2.2.min.js\", \"https://cdn.bokeh.org/bokeh/release/bokeh-tables-2.2.2.min.js\", \"https://cdnjs.cloudflare.com/ajax/libs/require.js/2.3.4/require.min.js\", \"https://unpkg.com/@holoviz/panel@^0.10.0-a36/dist/panel.min.js\", \"https://unpkg.com/@bokeh/ipywidgets_bokeh@^1.0.0/dist/ipywidgets_bokeh.js\"];\n",
       "  var css_urls = [\"https://unpkg.com/@holoviz/panel@0.10.0-a36/dist/css/codehilite.css\", \"https://unpkg.com/@holoviz/panel@0.10.0-a36/dist/css/alerts.css\", \"https://unpkg.com/@holoviz/panel@0.10.0-a36/dist/css/card.css\", \"https://unpkg.com/@holoviz/panel@0.10.0-a36/dist/css/widgets.css\", \"https://unpkg.com/@holoviz/panel@0.10.0-a36/dist/css/markdown.css\", \"https://unpkg.com/@holoviz/panel@0.10.0-a36/dist/css/json.css\", \"https://unpkg.com/@holoviz/panel@0.10.0-a36/dist/css/main.css\", \"https://unpkg.com/@holoviz/panel@0.10.0-a36/dist/css/dataframe.css\"];\n",
       "\n",
       "  var inline_js = [\n",
       "    function(Bokeh) {\n",
       "      Bokeh.set_log_level(\"info\");\n",
       "    },\n",
       "    function(Bokeh) {} // ensure no trailing comma for IE\n",
       "  ];\n",
       "\n",
       "  function run_inline_js() {\n",
       "    if ((root.Bokeh !== undefined) || (force === true)) {\n",
       "      for (var i = 0; i < inline_js.length; i++) {\n",
       "        inline_js[i].call(root, root.Bokeh);\n",
       "      }} else if (Date.now() < root._bokeh_timeout) {\n",
       "      setTimeout(run_inline_js, 100);\n",
       "    } else if (!root._bokeh_failed_load) {\n",
       "      console.log(\"Bokeh: BokehJS failed to load within specified timeout.\");\n",
       "      root._bokeh_failed_load = true;\n",
       "    }\n",
       "  }\n",
       "\n",
       "  if (root._bokeh_is_loading === 0) {\n",
       "    console.debug(\"Bokeh: BokehJS loaded, going straight to plotting\");\n",
       "    run_inline_js();\n",
       "  } else {\n",
       "    load_libs(css_urls, js_urls, function() {\n",
       "      console.debug(\"Bokeh: BokehJS plotting callback run at\", now());\n",
       "      run_inline_js();\n",
       "    });\n",
       "  }\n",
       "}(window));"
      ],
      "application/vnd.holoviews_load.v0+json": "\n(function(root) {\n  function now() {\n    return new Date();\n  }\n\n  var force = true;\n\n  if (typeof root._bokeh_onload_callbacks === \"undefined\" || force === true) {\n    root._bokeh_onload_callbacks = [];\n    root._bokeh_is_loading = undefined;\n  }\n\n  if (typeof (root._bokeh_timeout) === \"undefined\" || force === true) {\n    root._bokeh_timeout = Date.now() + 5000;\n    root._bokeh_failed_load = false;\n  }\n\n  function run_callbacks() {\n    try {\n      root._bokeh_onload_callbacks.forEach(function(callback) {\n        if (callback != null)\n          callback();\n      });\n    } finally {\n      delete root._bokeh_onload_callbacks\n    }\n    console.debug(\"Bokeh: all callbacks have finished\");\n  }\n\n  function load_libs(css_urls, js_urls, callback) {\n    if (css_urls == null) css_urls = [];\n    if (js_urls == null) js_urls = [];\n\n    root._bokeh_onload_callbacks.push(callback);\n    if (root._bokeh_is_loading > 0) {\n      console.debug(\"Bokeh: BokehJS is being loaded, scheduling callback at\", now());\n      return null;\n    }\n    if (js_urls == null || js_urls.length === 0) {\n      run_callbacks();\n      return null;\n    }\n    console.debug(\"Bokeh: BokehJS not loaded, scheduling load and callback at\", now());\n    root._bokeh_is_loading = css_urls.length + js_urls.length;\n\n    function on_load() {\n      root._bokeh_is_loading--;\n      if (root._bokeh_is_loading === 0) {\n        console.debug(\"Bokeh: all BokehJS libraries/stylesheets loaded\");\n        run_callbacks()\n      }\n    }\n\n    function on_error() {\n      console.error(\"failed to load \" + url);\n    }\n\n    for (var i = 0; i < css_urls.length; i++) {\n      var url = css_urls[i];\n      const element = document.createElement(\"link\");\n      element.onload = on_load;\n      element.onerror = on_error;\n      element.rel = \"stylesheet\";\n      element.type = \"text/css\";\n      element.href = url;\n      console.debug(\"Bokeh: injecting link tag for BokehJS stylesheet: \", url);\n      document.body.appendChild(element);\n    }\n\n    var skip = [];\n    if (window.requirejs) {\n      window.requirejs.config({'baseUrl': 'https://cdn.jsdelivr.net/npm/', 'paths': {'echarts': 'echarts@4.8.0/dist/echarts.min'}});\n      require([], function() {\n      })\n    }\n    if (((window['echarts'] !== undefined) && (!(window['echarts'] instanceof HTMLElement))) || window.requirejs) {\n      var urls = ['https://cdn.jsdelivr.net/npm/echarts@4.8.0/dist/echarts.min.js'];\n      for (var i = 0; i < urls.length; i++) {\n        skip.push(urls[i])\n      }\n    }\n    for (var i = 0; i < js_urls.length; i++) {\n      var url = js_urls[i];\n      if (skip.indexOf(url) >= 0) { on_load(); continue; }\n\t  console.log(url)\n      var element = document.createElement('script');\n      element.onload = on_load;\n      element.onerror = on_error;\n      element.async = false;\n      element.src = url;\n      console.debug(\"Bokeh: injecting script tag for BokehJS library: \", url);\n      document.head.appendChild(element);\n    }\n\tif (!js_urls.length) {\n      on_load()\n    }\n  };\n\n  function inject_raw_css(css) {\n    const element = document.createElement(\"style\");\n    element.appendChild(document.createTextNode(css));\n    document.body.appendChild(element);\n  }\n\n  var js_urls = [\"https://cdn.jsdelivr.net/npm/echarts@4.8.0/dist/echarts.min.js\", \"https://cdn.bokeh.org/bokeh/release/bokeh-2.2.2.min.js\", \"https://cdn.bokeh.org/bokeh/release/bokeh-widgets-2.2.2.min.js\", \"https://cdn.bokeh.org/bokeh/release/bokeh-tables-2.2.2.min.js\", \"https://cdnjs.cloudflare.com/ajax/libs/require.js/2.3.4/require.min.js\", \"https://unpkg.com/@holoviz/panel@^0.10.0-a36/dist/panel.min.js\", \"https://unpkg.com/@bokeh/ipywidgets_bokeh@^1.0.0/dist/ipywidgets_bokeh.js\"];\n  var css_urls = [\"https://unpkg.com/@holoviz/panel@0.10.0-a36/dist/css/codehilite.css\", \"https://unpkg.com/@holoviz/panel@0.10.0-a36/dist/css/alerts.css\", \"https://unpkg.com/@holoviz/panel@0.10.0-a36/dist/css/card.css\", \"https://unpkg.com/@holoviz/panel@0.10.0-a36/dist/css/widgets.css\", \"https://unpkg.com/@holoviz/panel@0.10.0-a36/dist/css/markdown.css\", \"https://unpkg.com/@holoviz/panel@0.10.0-a36/dist/css/json.css\", \"https://unpkg.com/@holoviz/panel@0.10.0-a36/dist/css/main.css\", \"https://unpkg.com/@holoviz/panel@0.10.0-a36/dist/css/dataframe.css\"];\n\n  var inline_js = [\n    function(Bokeh) {\n      Bokeh.set_log_level(\"info\");\n    },\n    function(Bokeh) {} // ensure no trailing comma for IE\n  ];\n\n  function run_inline_js() {\n    if ((root.Bokeh !== undefined) || (force === true)) {\n      for (var i = 0; i < inline_js.length; i++) {\n        inline_js[i].call(root, root.Bokeh);\n      }} else if (Date.now() < root._bokeh_timeout) {\n      setTimeout(run_inline_js, 100);\n    } else if (!root._bokeh_failed_load) {\n      console.log(\"Bokeh: BokehJS failed to load within specified timeout.\");\n      root._bokeh_failed_load = true;\n    }\n  }\n\n  if (root._bokeh_is_loading === 0) {\n    console.debug(\"Bokeh: BokehJS loaded, going straight to plotting\");\n    run_inline_js();\n  } else {\n    load_libs(css_urls, js_urls, function() {\n      console.debug(\"Bokeh: BokehJS plotting callback run at\", now());\n      run_inline_js();\n    });\n  }\n}(window));"
     },
     "metadata": {},
     "output_type": "display_data"
    },
    {
     "data": {
      "application/javascript": [
       "\n",
       "if ((window.PyViz === undefined) || (window.PyViz instanceof HTMLElement)) {\n",
       "  window.PyViz = {comms: {}, comm_status:{}, kernels:{}, receivers: {}, plot_index: []}\n",
       "}\n",
       "\n",
       "\n",
       "    function JupyterCommManager() {\n",
       "    }\n",
       "\n",
       "    JupyterCommManager.prototype.register_target = function(plot_id, comm_id, msg_handler) {\n",
       "      if (window.comm_manager || ((window.Jupyter !== undefined) && (Jupyter.notebook.kernel != null))) {\n",
       "        var comm_manager = window.comm_manager || Jupyter.notebook.kernel.comm_manager;\n",
       "        comm_manager.register_target(comm_id, function(comm) {\n",
       "          comm.on_msg(msg_handler);\n",
       "        });\n",
       "      } else if ((plot_id in window.PyViz.kernels) && (window.PyViz.kernels[plot_id])) {\n",
       "        window.PyViz.kernels[plot_id].registerCommTarget(comm_id, function(comm) {\n",
       "          comm.onMsg = msg_handler;\n",
       "        });\n",
       "      } else if (typeof google != 'undefined' && google.colab.kernel != null) {\n",
       "        google.colab.kernel.comms.registerTarget(comm_id, (comm) => {\n",
       "          var messages = comm.messages[Symbol.asyncIterator]();\n",
       "          function processIteratorResult(result) {\n",
       "            var message = result.value;\n",
       "            console.log(message)\n",
       "            var content = {data: message.data, comm_id};\n",
       "            var buffers = []\n",
       "            for (var buffer of message.buffers || []) {\n",
       "              buffers.push(new DataView(buffer))\n",
       "            }\n",
       "            var metadata = message.metadata || {};\n",
       "            var msg = {content, buffers, metadata}\n",
       "            msg_handler(msg);\n",
       "            return messages.next().then(processIteratorResult);\n",
       "          }\n",
       "          return messages.next().then(processIteratorResult);\n",
       "        })\n",
       "      }\n",
       "    }\n",
       "\n",
       "    JupyterCommManager.prototype.get_client_comm = function(plot_id, comm_id, msg_handler) {\n",
       "      if (comm_id in window.PyViz.comms) {\n",
       "        return window.PyViz.comms[comm_id];\n",
       "      } else if (window.comm_manager || ((window.Jupyter !== undefined) && (Jupyter.notebook.kernel != null))) {\n",
       "        var comm_manager = window.comm_manager || Jupyter.notebook.kernel.comm_manager;\n",
       "        var comm = comm_manager.new_comm(comm_id, {}, {}, {}, comm_id);\n",
       "        if (msg_handler) {\n",
       "          comm.on_msg(msg_handler);\n",
       "        }\n",
       "      } else if ((plot_id in window.PyViz.kernels) && (window.PyViz.kernels[plot_id])) {\n",
       "        var comm = window.PyViz.kernels[plot_id].connectToComm(comm_id);\n",
       "        comm.open();\n",
       "        if (msg_handler) {\n",
       "          comm.onMsg = msg_handler;\n",
       "        }\n",
       "      } else if (typeof google != 'undefined' && google.colab.kernel != null) {\n",
       "        var comm_promise = google.colab.kernel.comms.open(comm_id)\n",
       "        comm_promise.then((comm) => {\n",
       "          window.PyViz.comms[comm_id] = comm;\n",
       "          if (msg_handler) {\n",
       "            var messages = comm.messages[Symbol.asyncIterator]();\n",
       "            function processIteratorResult(result) {\n",
       "              var message = result.value;\n",
       "              var content = {data: message.data};\n",
       "              var metadata = message.metadata || {comm_id};\n",
       "              var msg = {content, metadata}\n",
       "              msg_handler(msg);\n",
       "              return messages.next().then(processIteratorResult);\n",
       "            }\n",
       "            return messages.next().then(processIteratorResult);\n",
       "          }\n",
       "        }) \n",
       "        var sendClosure = (data, metadata, buffers, disposeOnDone) => {\n",
       "          return comm_promise.then((comm) => {\n",
       "            comm.send(data, metadata, buffers, disposeOnDone);\n",
       "          });\n",
       "        };\n",
       "        var comm = {\n",
       "          send: sendClosure\n",
       "        };\n",
       "      }\n",
       "      window.PyViz.comms[comm_id] = comm;\n",
       "      return comm;\n",
       "    }\n",
       "    window.PyViz.comm_manager = new JupyterCommManager();\n",
       "    \n",
       "\n",
       "\n",
       "var JS_MIME_TYPE = 'application/javascript';\n",
       "var HTML_MIME_TYPE = 'text/html';\n",
       "var EXEC_MIME_TYPE = 'application/vnd.holoviews_exec.v0+json';\n",
       "var CLASS_NAME = 'output';\n",
       "\n",
       "/**\n",
       " * Render data to the DOM node\n",
       " */\n",
       "function render(props, node) {\n",
       "  var div = document.createElement(\"div\");\n",
       "  var script = document.createElement(\"script\");\n",
       "  node.appendChild(div);\n",
       "  node.appendChild(script);\n",
       "}\n",
       "\n",
       "/**\n",
       " * Handle when a new output is added\n",
       " */\n",
       "function handle_add_output(event, handle) {\n",
       "  var output_area = handle.output_area;\n",
       "  var output = handle.output;\n",
       "  if ((output.data == undefined) || (!output.data.hasOwnProperty(EXEC_MIME_TYPE))) {\n",
       "    return\n",
       "  }\n",
       "  var id = output.metadata[EXEC_MIME_TYPE][\"id\"];\n",
       "  var toinsert = output_area.element.find(\".\" + CLASS_NAME.split(' ')[0]);\n",
       "  if (id !== undefined) {\n",
       "    var nchildren = toinsert.length;\n",
       "    var html_node = toinsert[nchildren-1].children[0];\n",
       "    html_node.innerHTML = output.data[HTML_MIME_TYPE];\n",
       "    var scripts = [];\n",
       "    var nodelist = html_node.querySelectorAll(\"script\");\n",
       "    for (var i in nodelist) {\n",
       "      if (nodelist.hasOwnProperty(i)) {\n",
       "        scripts.push(nodelist[i])\n",
       "      }\n",
       "    }\n",
       "\n",
       "    scripts.forEach( function (oldScript) {\n",
       "      var newScript = document.createElement(\"script\");\n",
       "      var attrs = [];\n",
       "      var nodemap = oldScript.attributes;\n",
       "      for (var j in nodemap) {\n",
       "        if (nodemap.hasOwnProperty(j)) {\n",
       "          attrs.push(nodemap[j])\n",
       "        }\n",
       "      }\n",
       "      attrs.forEach(function(attr) { newScript.setAttribute(attr.name, attr.value) });\n",
       "      newScript.appendChild(document.createTextNode(oldScript.innerHTML));\n",
       "      oldScript.parentNode.replaceChild(newScript, oldScript);\n",
       "    });\n",
       "    if (JS_MIME_TYPE in output.data) {\n",
       "      toinsert[nchildren-1].children[1].textContent = output.data[JS_MIME_TYPE];\n",
       "    }\n",
       "    output_area._hv_plot_id = id;\n",
       "    if ((window.Bokeh !== undefined) && (id in Bokeh.index)) {\n",
       "      window.PyViz.plot_index[id] = Bokeh.index[id];\n",
       "    } else {\n",
       "      window.PyViz.plot_index[id] = null;\n",
       "    }\n",
       "  } else if (output.metadata[EXEC_MIME_TYPE][\"server_id\"] !== undefined) {\n",
       "    var bk_div = document.createElement(\"div\");\n",
       "    bk_div.innerHTML = output.data[HTML_MIME_TYPE];\n",
       "    var script_attrs = bk_div.children[0].attributes;\n",
       "    for (var i = 0; i < script_attrs.length; i++) {\n",
       "      toinsert[toinsert.length - 1].childNodes[1].setAttribute(script_attrs[i].name, script_attrs[i].value);\n",
       "    }\n",
       "    // store reference to server id on output_area\n",
       "    output_area._bokeh_server_id = output.metadata[EXEC_MIME_TYPE][\"server_id\"];\n",
       "  }\n",
       "}\n",
       "\n",
       "/**\n",
       " * Handle when an output is cleared or removed\n",
       " */\n",
       "function handle_clear_output(event, handle) {\n",
       "  var id = handle.cell.output_area._hv_plot_id;\n",
       "  var server_id = handle.cell.output_area._bokeh_server_id;\n",
       "  if (((id === undefined) || !(id in PyViz.plot_index)) && (server_id !== undefined)) { return; }\n",
       "  var comm = window.PyViz.comm_manager.get_client_comm(\"hv-extension-comm\", \"hv-extension-comm\", function () {});\n",
       "  if (server_id !== null) {\n",
       "    comm.send({event_type: 'server_delete', 'id': server_id});\n",
       "    return;\n",
       "  } else if (comm !== null) {\n",
       "    comm.send({event_type: 'delete', 'id': id});\n",
       "  }\n",
       "  delete PyViz.plot_index[id];\n",
       "  if ((window.Bokeh !== undefined) & (id in window.Bokeh.index)) {\n",
       "    var doc = window.Bokeh.index[id].model.document\n",
       "    doc.clear();\n",
       "    const i = window.Bokeh.documents.indexOf(doc);\n",
       "    if (i > -1) {\n",
       "      window.Bokeh.documents.splice(i, 1);\n",
       "    }\n",
       "  }\n",
       "}\n",
       "\n",
       "/**\n",
       " * Handle kernel restart event\n",
       " */\n",
       "function handle_kernel_cleanup(event, handle) {\n",
       "  delete PyViz.comms[\"hv-extension-comm\"];\n",
       "  window.PyViz.plot_index = {}\n",
       "}\n",
       "\n",
       "/**\n",
       " * Handle update_display_data messages\n",
       " */\n",
       "function handle_update_output(event, handle) {\n",
       "  handle_clear_output(event, {cell: {output_area: handle.output_area}})\n",
       "  handle_add_output(event, handle)\n",
       "}\n",
       "\n",
       "function register_renderer(events, OutputArea) {\n",
       "  function append_mime(data, metadata, element) {\n",
       "    // create a DOM node to render to\n",
       "    var toinsert = this.create_output_subarea(\n",
       "    metadata,\n",
       "    CLASS_NAME,\n",
       "    EXEC_MIME_TYPE\n",
       "    );\n",
       "    this.keyboard_manager.register_events(toinsert);\n",
       "    // Render to node\n",
       "    var props = {data: data, metadata: metadata[EXEC_MIME_TYPE]};\n",
       "    render(props, toinsert[0]);\n",
       "    element.append(toinsert);\n",
       "    return toinsert\n",
       "  }\n",
       "\n",
       "  events.on('output_added.OutputArea', handle_add_output);\n",
       "  events.on('output_updated.OutputArea', handle_update_output);\n",
       "  events.on('clear_output.CodeCell', handle_clear_output);\n",
       "  events.on('delete.Cell', handle_clear_output);\n",
       "  events.on('kernel_ready.Kernel', handle_kernel_cleanup);\n",
       "\n",
       "  OutputArea.prototype.register_mime_type(EXEC_MIME_TYPE, append_mime, {\n",
       "    safe: true,\n",
       "    index: 0\n",
       "  });\n",
       "}\n",
       "\n",
       "if (window.Jupyter !== undefined) {\n",
       "  try {\n",
       "    var events = require('base/js/events');\n",
       "    var OutputArea = require('notebook/js/outputarea').OutputArea;\n",
       "    if (OutputArea.prototype.mime_types().indexOf(EXEC_MIME_TYPE) == -1) {\n",
       "      register_renderer(events, OutputArea);\n",
       "    }\n",
       "  } catch(err) {\n",
       "  }\n",
       "}\n"
      ],
      "application/vnd.holoviews_load.v0+json": "\nif ((window.PyViz === undefined) || (window.PyViz instanceof HTMLElement)) {\n  window.PyViz = {comms: {}, comm_status:{}, kernels:{}, receivers: {}, plot_index: []}\n}\n\n\n    function JupyterCommManager() {\n    }\n\n    JupyterCommManager.prototype.register_target = function(plot_id, comm_id, msg_handler) {\n      if (window.comm_manager || ((window.Jupyter !== undefined) && (Jupyter.notebook.kernel != null))) {\n        var comm_manager = window.comm_manager || Jupyter.notebook.kernel.comm_manager;\n        comm_manager.register_target(comm_id, function(comm) {\n          comm.on_msg(msg_handler);\n        });\n      } else if ((plot_id in window.PyViz.kernels) && (window.PyViz.kernels[plot_id])) {\n        window.PyViz.kernels[plot_id].registerCommTarget(comm_id, function(comm) {\n          comm.onMsg = msg_handler;\n        });\n      } else if (typeof google != 'undefined' && google.colab.kernel != null) {\n        google.colab.kernel.comms.registerTarget(comm_id, (comm) => {\n          var messages = comm.messages[Symbol.asyncIterator]();\n          function processIteratorResult(result) {\n            var message = result.value;\n            console.log(message)\n            var content = {data: message.data, comm_id};\n            var buffers = []\n            for (var buffer of message.buffers || []) {\n              buffers.push(new DataView(buffer))\n            }\n            var metadata = message.metadata || {};\n            var msg = {content, buffers, metadata}\n            msg_handler(msg);\n            return messages.next().then(processIteratorResult);\n          }\n          return messages.next().then(processIteratorResult);\n        })\n      }\n    }\n\n    JupyterCommManager.prototype.get_client_comm = function(plot_id, comm_id, msg_handler) {\n      if (comm_id in window.PyViz.comms) {\n        return window.PyViz.comms[comm_id];\n      } else if (window.comm_manager || ((window.Jupyter !== undefined) && (Jupyter.notebook.kernel != null))) {\n        var comm_manager = window.comm_manager || Jupyter.notebook.kernel.comm_manager;\n        var comm = comm_manager.new_comm(comm_id, {}, {}, {}, comm_id);\n        if (msg_handler) {\n          comm.on_msg(msg_handler);\n        }\n      } else if ((plot_id in window.PyViz.kernels) && (window.PyViz.kernels[plot_id])) {\n        var comm = window.PyViz.kernels[plot_id].connectToComm(comm_id);\n        comm.open();\n        if (msg_handler) {\n          comm.onMsg = msg_handler;\n        }\n      } else if (typeof google != 'undefined' && google.colab.kernel != null) {\n        var comm_promise = google.colab.kernel.comms.open(comm_id)\n        comm_promise.then((comm) => {\n          window.PyViz.comms[comm_id] = comm;\n          if (msg_handler) {\n            var messages = comm.messages[Symbol.asyncIterator]();\n            function processIteratorResult(result) {\n              var message = result.value;\n              var content = {data: message.data};\n              var metadata = message.metadata || {comm_id};\n              var msg = {content, metadata}\n              msg_handler(msg);\n              return messages.next().then(processIteratorResult);\n            }\n            return messages.next().then(processIteratorResult);\n          }\n        }) \n        var sendClosure = (data, metadata, buffers, disposeOnDone) => {\n          return comm_promise.then((comm) => {\n            comm.send(data, metadata, buffers, disposeOnDone);\n          });\n        };\n        var comm = {\n          send: sendClosure\n        };\n      }\n      window.PyViz.comms[comm_id] = comm;\n      return comm;\n    }\n    window.PyViz.comm_manager = new JupyterCommManager();\n    \n\n\nvar JS_MIME_TYPE = 'application/javascript';\nvar HTML_MIME_TYPE = 'text/html';\nvar EXEC_MIME_TYPE = 'application/vnd.holoviews_exec.v0+json';\nvar CLASS_NAME = 'output';\n\n/**\n * Render data to the DOM node\n */\nfunction render(props, node) {\n  var div = document.createElement(\"div\");\n  var script = document.createElement(\"script\");\n  node.appendChild(div);\n  node.appendChild(script);\n}\n\n/**\n * Handle when a new output is added\n */\nfunction handle_add_output(event, handle) {\n  var output_area = handle.output_area;\n  var output = handle.output;\n  if ((output.data == undefined) || (!output.data.hasOwnProperty(EXEC_MIME_TYPE))) {\n    return\n  }\n  var id = output.metadata[EXEC_MIME_TYPE][\"id\"];\n  var toinsert = output_area.element.find(\".\" + CLASS_NAME.split(' ')[0]);\n  if (id !== undefined) {\n    var nchildren = toinsert.length;\n    var html_node = toinsert[nchildren-1].children[0];\n    html_node.innerHTML = output.data[HTML_MIME_TYPE];\n    var scripts = [];\n    var nodelist = html_node.querySelectorAll(\"script\");\n    for (var i in nodelist) {\n      if (nodelist.hasOwnProperty(i)) {\n        scripts.push(nodelist[i])\n      }\n    }\n\n    scripts.forEach( function (oldScript) {\n      var newScript = document.createElement(\"script\");\n      var attrs = [];\n      var nodemap = oldScript.attributes;\n      for (var j in nodemap) {\n        if (nodemap.hasOwnProperty(j)) {\n          attrs.push(nodemap[j])\n        }\n      }\n      attrs.forEach(function(attr) { newScript.setAttribute(attr.name, attr.value) });\n      newScript.appendChild(document.createTextNode(oldScript.innerHTML));\n      oldScript.parentNode.replaceChild(newScript, oldScript);\n    });\n    if (JS_MIME_TYPE in output.data) {\n      toinsert[nchildren-1].children[1].textContent = output.data[JS_MIME_TYPE];\n    }\n    output_area._hv_plot_id = id;\n    if ((window.Bokeh !== undefined) && (id in Bokeh.index)) {\n      window.PyViz.plot_index[id] = Bokeh.index[id];\n    } else {\n      window.PyViz.plot_index[id] = null;\n    }\n  } else if (output.metadata[EXEC_MIME_TYPE][\"server_id\"] !== undefined) {\n    var bk_div = document.createElement(\"div\");\n    bk_div.innerHTML = output.data[HTML_MIME_TYPE];\n    var script_attrs = bk_div.children[0].attributes;\n    for (var i = 0; i < script_attrs.length; i++) {\n      toinsert[toinsert.length - 1].childNodes[1].setAttribute(script_attrs[i].name, script_attrs[i].value);\n    }\n    // store reference to server id on output_area\n    output_area._bokeh_server_id = output.metadata[EXEC_MIME_TYPE][\"server_id\"];\n  }\n}\n\n/**\n * Handle when an output is cleared or removed\n */\nfunction handle_clear_output(event, handle) {\n  var id = handle.cell.output_area._hv_plot_id;\n  var server_id = handle.cell.output_area._bokeh_server_id;\n  if (((id === undefined) || !(id in PyViz.plot_index)) && (server_id !== undefined)) { return; }\n  var comm = window.PyViz.comm_manager.get_client_comm(\"hv-extension-comm\", \"hv-extension-comm\", function () {});\n  if (server_id !== null) {\n    comm.send({event_type: 'server_delete', 'id': server_id});\n    return;\n  } else if (comm !== null) {\n    comm.send({event_type: 'delete', 'id': id});\n  }\n  delete PyViz.plot_index[id];\n  if ((window.Bokeh !== undefined) & (id in window.Bokeh.index)) {\n    var doc = window.Bokeh.index[id].model.document\n    doc.clear();\n    const i = window.Bokeh.documents.indexOf(doc);\n    if (i > -1) {\n      window.Bokeh.documents.splice(i, 1);\n    }\n  }\n}\n\n/**\n * Handle kernel restart event\n */\nfunction handle_kernel_cleanup(event, handle) {\n  delete PyViz.comms[\"hv-extension-comm\"];\n  window.PyViz.plot_index = {}\n}\n\n/**\n * Handle update_display_data messages\n */\nfunction handle_update_output(event, handle) {\n  handle_clear_output(event, {cell: {output_area: handle.output_area}})\n  handle_add_output(event, handle)\n}\n\nfunction register_renderer(events, OutputArea) {\n  function append_mime(data, metadata, element) {\n    // create a DOM node to render to\n    var toinsert = this.create_output_subarea(\n    metadata,\n    CLASS_NAME,\n    EXEC_MIME_TYPE\n    );\n    this.keyboard_manager.register_events(toinsert);\n    // Render to node\n    var props = {data: data, metadata: metadata[EXEC_MIME_TYPE]};\n    render(props, toinsert[0]);\n    element.append(toinsert);\n    return toinsert\n  }\n\n  events.on('output_added.OutputArea', handle_add_output);\n  events.on('output_updated.OutputArea', handle_update_output);\n  events.on('clear_output.CodeCell', handle_clear_output);\n  events.on('delete.Cell', handle_clear_output);\n  events.on('kernel_ready.Kernel', handle_kernel_cleanup);\n\n  OutputArea.prototype.register_mime_type(EXEC_MIME_TYPE, append_mime, {\n    safe: true,\n    index: 0\n  });\n}\n\nif (window.Jupyter !== undefined) {\n  try {\n    var events = require('base/js/events');\n    var OutputArea = require('notebook/js/outputarea').OutputArea;\n    if (OutputArea.prototype.mime_types().indexOf(EXEC_MIME_TYPE) == -1) {\n      register_renderer(events, OutputArea);\n    }\n  } catch(err) {\n  }\n}\n"
     },
     "metadata": {},
     "output_type": "display_data"
    }
   ],
   "source": [
    "#ignore\n",
    "import numpy as np\n",
    "import pandas as pd\n",
    "import panel as pn\n",
    "import holoviews as hv\n",
    "\n",
    "pn.extension('echarts', 'ipywidgets', embed=True)"
   ]
  },
  {
   "cell_type": "markdown",
   "metadata": {},
   "source": [
    "Panel is an open-source Python library that lets you create custom interactive web apps and dashboards by connecting user-defined widgets to plots, images, tables, or text. Panel aims to integrate seamlessly with your existing workflows and the libraries in the PyData ecosystem you are already familiar with.\n",
    "\n",
    "Panel lets you move the same code freely between an interactive Jupyter Notebook prompt and a fully deployable standalone server. That way you can easily switch between exploring your data, building visualizations, adding custom interactivity, sharing with non-technical users, and back again at any point, using the same tools and the same code throughout. Check out the [Panel website](https://panel.holoviz.org/) to find out more!\n",
    "\n",
    "We are very pleased to announce the 0.10 release of Panel! This release focuses on adding a number of powerful features requested by our users, including:\n",
    "\n",
    "- A set of easy-to-use Templates built on common CSS frameworks such as Bootstrap, GoldenLayout and MaterialUI \n",
    "- New layout components like `Card` and `Accordion` layouts\n",
    "- ipywidgets support\n",
    "- A new `ECharts` pane\n",
    "- A set of `Indicators`, which are particularly useful for building BI dashboards\n",
    "- Support for authenticated access to Panel apps, via OAuth components for GitHub, Okta, Azure AD, GitLab, or Twitter accounts\n",
    "- URL parameters for linking directly to the current state of a Panel app, selecting from options by syncing the URL parameters to widget values\n",
    "- Easily serving static assets alongside your application\n",
    "- Support for adding a REST API to your application for automated querying and monitoring\n",
    "- Support for deferring computations until the page is rendered and indicating when the server is busy\n",
    "\n",
    "<hr>\n",
    "\n",
    "If you are using [Anaconda](https://www.anaconda.com/downloads), you can get the latest Panel with ``conda install -c pyviz panel`` , and using pip you can install it with ``pip install panel``.\n",
    "\n",
    "<hr>"
   ]
  },
  {
   "cell_type": "markdown",
   "metadata": {},
   "source": [
    "## Templates and Themes\n",
    "\n",
    "Panel has always made it easy to build simple applications quickly and allowed more advanced users to use the Jinja templating system to build more polished dashboards. However in many applications and for many users, building such a custom template added a lot of complexity. This release therefore adds a number of predefined `BasicTemplate` classes, which are in fact anything but basic. They allow users to easily populate a clean dashboard and build on a number of popular CSS frameworks, straight out of the box. Users can currently choose from:\n",
    "\n",
    "* `ReactTemplate`: Builds on the [react-grid-layout](https://github.com/STRML/react-grid-layout) framework, making it easy to build responsive, resizable and draggable grid layouts.\n",
    "\n",
    "<div>\n",
    "<img style=\"margin: auto; display: flex;\" src=\"./images/react.gif\" width=\"80%\"></img>\n",
    "</div>\n",
    "\n",
    "\n",
    "* `MaterialTemplate`: Builds on the Material UI framework using [material-components-web](https://github.com/material-components/material-components-web)\n",
    "\n",
    "<div>\n",
    "<img style=\"margin: auto; display: flex;\" src=\"https://github.com/holoviz/panel/raw/master/examples/assets/Material.png\" width=\"80%\"></img>\n",
    "</div>\n",
    "\n",
    "* `GoldenTemplate`: Builds on [Golden Layout](http://golden-layout.com/) with the ability to resize individual tabs\n",
    "\n",
    "<div>\n",
    "<img style=\"margin: auto; display: flex;\" src=\"https://github.com/holoviz/panel/raw/master/examples/assets/GoldenDark.png\" width=\"80%\"></img>\n",
    "</div>\n",
    "\n",
    "* `BootstrapTemplate`: Builds on the [Bootstrap](https://getbootstrap.com/) framework.\n",
    "\n",
    "<img style=\"margin: auto; display: flex;\" src=\"https://github.com/holoviz/panel/raw/master/examples/assets/Bootstrap.png\" width=\"80%\"></img>\n",
    "\n",
    "* `VanillaTemplate`: Builds on pure CSS and JS without any external CSS framework.\n",
    "\n",
    "<img style=\"margin: auto; display: flex;\" src=\"https://github.com/holoviz/panel/raw/master/examples/assets/VanillaDark.png\" width=\"80%\"></img>\n"
   ]
  },
  {
   "cell_type": "markdown",
   "metadata": {},
   "source": [
    "## Card and Accordion layouts\n",
    "\n",
    "The set of standard layout types that are available also expanded this release to include `Card` and `Accordion` layouts, which can be incredibly useful when you do not want all the content visible by default."
   ]
  },
  {
   "cell_type": "code",
   "execution_count": 2,
   "metadata": {},
   "outputs": [
    {
     "data": {},
     "metadata": {},
     "output_type": "display_data"
    },
    {
     "data": {
      "application/vnd.holoviews_exec.v0+json": "",
      "text/html": [
       "<div id='1001'>\n",
       "\n",
       "\n",
       "\n",
       "\n",
       "\n",
       "  <div class=\"bk-root\" id=\"fb2099ab-7eaf-4d99-a666-73404d070caa\" data-root-id=\"1001\"></div>\n",
       "</div>\n",
       "<script type=\"application/javascript\">(function(root) {\n",
       "  function embed_document(root) {\n",
       "    var docs_json = {\"c8560a4a-9b92-4568-ae23-b7fac29a5e43\":{\"roots\":{\"references\":[{\"attributes\":{\"end\":1.0,\"format\":\"0[.]00\",\"margin\":[5,10,5,10],\"start\":0.0,\"step\":0.1,\"title\":\"Slider\",\"value\":0.0,\"value_throttled\":0.0},\"id\":\"1005\",\"type\":\"Slider\"},{\"attributes\":{\"children\":[{\"id\":\"1003\"}],\"css_classes\":[\"card-header-row\"],\"margin\":[0,0,0,0],\"name\":\"Row01448\",\"sizing_mode\":\"stretch_width\"},\"id\":\"1002\",\"type\":\"Row\"},{\"attributes\":{\"css_classes\":[\"card-title\"],\"margin\":[2,5,2,5],\"name\":\"HTML01450\",\"sizing_mode\":\"stretch_width\",\"text\":\"Card\"},\"id\":\"1003\",\"type\":\"panel.models.markup.HTML\"},{\"attributes\":{\"active_header_background\":\"\",\"background\":\"WhiteSmoke\",\"button_css_classes\":[\"card-button\"],\"children\":[{\"id\":\"1002\"},{\"id\":\"1004\"},{\"id\":\"1005\"}],\"collapsed\":false,\"css_classes\":[\"card\"],\"header_background\":\"\",\"header_color\":\"\",\"header_css_classes\":[\"card-header\"],\"margin\":[5,5,5,5],\"name\":\"Card01449\",\"tags\":[\"embedded\"]},\"id\":\"1001\",\"type\":\"panel.models.layout.Card\"},{\"attributes\":{\"margin\":[5,10,5,10],\"title\":\"Text:\"},\"id\":\"1004\",\"type\":\"TextInput\"}],\"root_ids\":[\"1001\"]},\"title\":\"Bokeh Application\",\"version\":\"2.2.2\"}};\n",
       "    var render_items = [{\"docid\":\"c8560a4a-9b92-4568-ae23-b7fac29a5e43\",\"root_ids\":[\"1001\"],\"roots\":{\"1001\":\"fb2099ab-7eaf-4d99-a666-73404d070caa\"}}];\n",
       "    root.Bokeh.embed.embed_items_notebook(docs_json, render_items);\n",
       "  }\n",
       "  if (root.Bokeh !== undefined && root.Bokeh.Panel !== undefined && root['echarts'] !== undefined && (root.Bokeh.Models.registered_names().indexOf(\"ipywidgets_bokeh.widget.IPyWidget\") > -1)) {\n",
       "    embed_document(root);\n",
       "  } else {\n",
       "    var attempts = 0;\n",
       "    var timer = setInterval(function(root) {\n",
       "      if (root.Bokeh !== undefined && root.Bokeh.Panel !== undefined && root['echarts'] !== undefined&& (root.Bokeh.Models.registered_names().indexOf(\"ipywidgets_bokeh.widget.IPyWidget\") > -1)) {\n",
       "        clearInterval(timer);\n",
       "        embed_document(root);\n",
       "      } else if (document.readyState == \"complete\") {\n",
       "        attempts++;\n",
       "        if (attempts > 100) {\n",
       "          clearInterval(timer);\n",
       "          console.log(\"Bokeh: ERROR: Unable to run BokehJS code because BokehJS library is missing\");\n",
       "        }\n",
       "      }\n",
       "    }, 10, root)\n",
       "  }\n",
       "})(window);</script>"
      ],
      "text/plain": [
       "Card(background='WhiteSmoke', title='Card')\n",
       "    [0] TextInput(name='Text:')\n",
       "    [1] FloatSlider(name='Slider', value_throttled=0.0)"
      ]
     },
     "execution_count": 2,
     "metadata": {
      "application/vnd.holoviews_exec.v0+json": {
       "id": "1001"
      }
     },
     "output_type": "execute_result"
    }
   ],
   "source": [
    "w1 = pn.widgets.TextInput(name='Text:')\n",
    "w2 = pn.widgets.FloatSlider(name='Slider')\n",
    "\n",
    "card = pn.Card(w1, w2, title='Card', background='WhiteSmoke')\n",
    "card"
   ]
  },
  {
   "cell_type": "markdown",
   "metadata": {},
   "source": [
    "Clicking on the `+`/`-` button will expand and collapse the card. Similarly the `Accordion` allows stacking multiple cards on top of each other, providing a compact way to lay out multiple components. If `toggle=True` is set, only one of the cards will be expanded at a time, ensuring a consistently compact layout."
   ]
  },
  {
   "cell_type": "code",
   "execution_count": 3,
   "metadata": {},
   "outputs": [
    {
     "data": {},
     "metadata": {},
     "output_type": "display_data"
    },
    {
     "data": {
      "application/vnd.holoviews_exec.v0+json": "",
      "text/html": [
       "<div id='1080'>\n",
       "\n",
       "\n",
       "\n",
       "\n",
       "\n",
       "  <div class=\"bk-root\" id=\"837c2365-9b4d-471e-bd9b-1f186a08691f\" data-root-id=\"1080\"></div>\n",
       "</div>\n",
       "<script type=\"application/javascript\">(function(root) {\n",
       "  function embed_document(root) {\n",
       "    var docs_json = {\"a9be63fd-1b86-46ab-9129-0becb71a630b\":{\"roots\":{\"references\":[{\"attributes\":{},\"id\":\"1029\",\"type\":\"ResetTool\"},{\"attributes\":{},\"id\":\"1104\",\"type\":\"Selection\"},{\"attributes\":{},\"id\":\"1030\",\"type\":\"HelpTool\"},{\"attributes\":{\"text\":\"\"},\"id\":\"1098\",\"type\":\"Title\"},{\"attributes\":{},\"id\":\"1045\",\"type\":\"DataRange1d\"},{\"attributes\":{\"bottom_units\":\"screen\",\"fill_alpha\":0.5,\"fill_color\":\"lightgrey\",\"left_units\":\"screen\",\"level\":\"overlay\",\"line_alpha\":1.0,\"line_color\":\"black\",\"line_dash\":[4,4],\"line_width\":2,\"right_units\":\"screen\",\"top_units\":\"screen\"},\"id\":\"1031\",\"type\":\"BoxAnnotation\"},{\"attributes\":{},\"id\":\"1099\",\"type\":\"BasicTickFormatter\"},{\"attributes\":{\"text\":\"\"},\"id\":\"1085\",\"type\":\"Title\"},{\"attributes\":{},\"id\":\"1101\",\"type\":\"BasicTickFormatter\"},{\"attributes\":{\"css_classes\":[\"card-title\"],\"margin\":[2,5,2,5],\"name\":\"HTML01463\",\"sizing_mode\":\"stretch_width\",\"text\":\"Scatter\"},\"id\":\"1083\",\"type\":\"panel.models.markup.HTML\"},{\"attributes\":{},\"id\":\"1086\",\"type\":\"BasicTickFormatter\"},{\"attributes\":{},\"id\":\"1105\",\"type\":\"UnionRenderers\"},{\"attributes\":{},\"id\":\"1049\",\"type\":\"LinearScale\"},{\"attributes\":{\"children\":[{\"id\":\"1083\"}],\"css_classes\":[\"card-header-row\"],\"margin\":[0,0,0,0],\"name\":\"Row01461\",\"sizing_mode\":\"stretch_width\"},\"id\":\"1082\",\"type\":\"Row\"},{\"attributes\":{\"children\":[{\"id\":\"1081\"},{\"id\":\"1094\"}],\"margin\":[0,0,0,0],\"name\":\"Accordion01459\",\"tags\":[\"embedded\"]},\"id\":\"1080\",\"type\":\"Column\"},{\"attributes\":{\"data\":{\"x\":[0,1,2,3,4,5,6],\"y\":[0,1,2,3,2,1,0]},\"selected\":{\"id\":\"1091\"},\"selection_policy\":{\"id\":\"1092\"}},\"id\":\"1039\",\"type\":\"ColumnDataSource\"},{\"attributes\":{\"bottom_units\":\"screen\",\"fill_alpha\":0.5,\"fill_color\":\"lightgrey\",\"left_units\":\"screen\",\"level\":\"overlay\",\"line_alpha\":1.0,\"line_color\":\"black\",\"line_dash\":[4,4],\"line_width\":2,\"right_units\":\"screen\",\"top_units\":\"screen\"},\"id\":\"1067\",\"type\":\"BoxAnnotation\"},{\"attributes\":{\"below\":[{\"id\":\"1017\"}],\"center\":[{\"id\":\"1020\"},{\"id\":\"1024\"}],\"left\":[{\"id\":\"1021\"}],\"margin\":[5,5,5,5],\"name\":\"Scatter\",\"plot_height\":300,\"plot_width\":300,\"renderers\":[{\"id\":\"1042\"}],\"title\":{\"id\":\"1085\"},\"toolbar\":{\"id\":\"1032\"},\"x_range\":{\"id\":\"1009\"},\"x_scale\":{\"id\":\"1013\"},\"y_range\":{\"id\":\"1011\"},\"y_scale\":{\"id\":\"1015\"}},\"id\":\"1008\",\"subtype\":\"Figure\",\"type\":\"Plot\"},{\"attributes\":{\"data_source\":{\"id\":\"1039\"},\"glyph\":{\"id\":\"1040\"},\"hover_glyph\":null,\"muted_glyph\":null,\"nonselection_glyph\":{\"id\":\"1041\"},\"selection_glyph\":null,\"view\":{\"id\":\"1043\"}},\"id\":\"1042\",\"type\":\"GlyphRenderer\"},{\"attributes\":{},\"id\":\"1047\",\"type\":\"DataRange1d\"},{\"attributes\":{\"active_drag\":\"auto\",\"active_inspect\":\"auto\",\"active_multi\":null,\"active_scroll\":\"auto\",\"active_tap\":\"auto\",\"tools\":[{\"id\":\"1061\"},{\"id\":\"1062\"},{\"id\":\"1063\"},{\"id\":\"1064\"},{\"id\":\"1065\"},{\"id\":\"1066\"}]},\"id\":\"1068\",\"type\":\"Toolbar\"},{\"attributes\":{\"line_alpha\":0.1,\"line_color\":\"#1f77b4\",\"x\":{\"field\":\"x\"},\"y\":{\"field\":\"y\"}},\"id\":\"1077\",\"type\":\"Line\"},{\"attributes\":{\"children\":[{\"id\":\"1096\"}],\"css_classes\":[\"card-header-row\"],\"margin\":[0,0,0,0],\"name\":\"Row01465\",\"sizing_mode\":\"stretch_width\"},\"id\":\"1095\",\"type\":\"Row\"},{\"attributes\":{\"fill_alpha\":{\"value\":0.1},\"fill_color\":{\"value\":\"#1f77b4\"},\"line_alpha\":{\"value\":0.1},\"line_color\":{\"value\":\"#1f77b4\"},\"x\":{\"field\":\"x\"},\"y\":{\"field\":\"y\"}},\"id\":\"1041\",\"type\":\"Scatter\"},{\"attributes\":{},\"id\":\"1009\",\"type\":\"DataRange1d\"},{\"attributes\":{\"args\":{\"accordion\":{\"id\":\"1080\"}},\"code\":\"\\n    for (var child of accordion.children) {\\n      if ((child.id !== cb_obj.id) && (child.collapsed == cb_obj.collapsed) && !cb_obj.collapsed) {\\n        child.collapsed = !cb_obj.collapsed\\n      }\\n    }\\n    \"},\"id\":\"1093\",\"type\":\"CustomJS\"},{\"attributes\":{\"active_drag\":\"auto\",\"active_inspect\":\"auto\",\"active_multi\":null,\"active_scroll\":\"auto\",\"active_tap\":\"auto\",\"tools\":[{\"id\":\"1025\"},{\"id\":\"1026\"},{\"id\":\"1027\"},{\"id\":\"1028\"},{\"id\":\"1029\"},{\"id\":\"1030\"}]},\"id\":\"1032\",\"type\":\"Toolbar\"},{\"attributes\":{\"fill_color\":{\"value\":\"#1f77b4\"},\"line_color\":{\"value\":\"#1f77b4\"},\"x\":{\"field\":\"x\"},\"y\":{\"field\":\"y\"}},\"id\":\"1040\",\"type\":\"Scatter\"},{\"attributes\":{},\"id\":\"1091\",\"type\":\"Selection\"},{\"attributes\":{\"formatter\":{\"id\":\"1101\"},\"ticker\":{\"id\":\"1054\"}},\"id\":\"1053\",\"type\":\"LinearAxis\"},{\"attributes\":{},\"id\":\"1025\",\"type\":\"PanTool\"},{\"attributes\":{},\"id\":\"1051\",\"type\":\"LinearScale\"},{\"attributes\":{\"active_header_background\":\"#ccc\",\"button_css_classes\":[\"card-button\"],\"children\":[{\"id\":\"1095\"},{\"id\":\"1044\"}],\"css_classes\":[\"accordion\"],\"header_background\":\"\",\"header_color\":\"\",\"header_css_classes\":[\"accordion-header\"],\"js_property_callbacks\":{\"change:collapsed\":[{\"id\":\"1106\"}]},\"margin\":[0,5,5,5],\"name\":\"Card01466\"},\"id\":\"1094\",\"type\":\"panel.models.layout.Card\"},{\"attributes\":{\"formatter\":{\"id\":\"1088\"},\"ticker\":{\"id\":\"1018\"}},\"id\":\"1017\",\"type\":\"LinearAxis\"},{\"attributes\":{},\"id\":\"1028\",\"type\":\"SaveTool\"},{\"attributes\":{},\"id\":\"1058\",\"type\":\"BasicTicker\"},{\"attributes\":{},\"id\":\"1054\",\"type\":\"BasicTicker\"},{\"attributes\":{\"axis\":{\"id\":\"1053\"},\"ticker\":null},\"id\":\"1056\",\"type\":\"Grid\"},{\"attributes\":{\"data_source\":{\"id\":\"1075\"},\"glyph\":{\"id\":\"1076\"},\"hover_glyph\":null,\"muted_glyph\":null,\"nonselection_glyph\":{\"id\":\"1077\"},\"selection_glyph\":null,\"view\":{\"id\":\"1079\"}},\"id\":\"1078\",\"type\":\"GlyphRenderer\"},{\"attributes\":{},\"id\":\"1092\",\"type\":\"UnionRenderers\"},{\"attributes\":{},\"id\":\"1011\",\"type\":\"DataRange1d\"},{\"attributes\":{\"axis\":{\"id\":\"1057\"},\"dimension\":1,\"ticker\":null},\"id\":\"1060\",\"type\":\"Grid\"},{\"attributes\":{},\"id\":\"1013\",\"type\":\"LinearScale\"},{\"attributes\":{\"formatter\":{\"id\":\"1099\"},\"ticker\":{\"id\":\"1058\"}},\"id\":\"1057\",\"type\":\"LinearAxis\"},{\"attributes\":{\"formatter\":{\"id\":\"1086\"},\"ticker\":{\"id\":\"1022\"}},\"id\":\"1021\",\"type\":\"LinearAxis\"},{\"attributes\":{\"axis\":{\"id\":\"1021\"},\"dimension\":1,\"ticker\":null},\"id\":\"1024\",\"type\":\"Grid\"},{\"attributes\":{\"data\":{\"x\":[0,1,2,3,4,5,6],\"y\":[0,1,2,3,2,1,0]},\"selected\":{\"id\":\"1104\"},\"selection_policy\":{\"id\":\"1105\"}},\"id\":\"1075\",\"type\":\"ColumnDataSource\"},{\"attributes\":{\"active_header_background\":\"#ccc\",\"button_css_classes\":[\"card-button\"],\"children\":[{\"id\":\"1082\"},{\"id\":\"1008\"}],\"css_classes\":[\"accordion\"],\"header_background\":\"\",\"header_color\":\"\",\"header_css_classes\":[\"accordion-header\"],\"js_property_callbacks\":{\"change:collapsed\":[{\"id\":\"1093\"}]},\"margin\":[5,5,0,5],\"name\":\"Card01462\"},\"id\":\"1081\",\"type\":\"panel.models.layout.Card\"},{\"attributes\":{},\"id\":\"1022\",\"type\":\"BasicTicker\"},{\"attributes\":{\"line_color\":\"#1f77b4\",\"x\":{\"field\":\"x\"},\"y\":{\"field\":\"y\"}},\"id\":\"1076\",\"type\":\"Line\"},{\"attributes\":{\"axis\":{\"id\":\"1017\"},\"ticker\":null},\"id\":\"1020\",\"type\":\"Grid\"},{\"attributes\":{\"source\":{\"id\":\"1039\"}},\"id\":\"1043\",\"type\":\"CDSView\"},{\"attributes\":{},\"id\":\"1015\",\"type\":\"LinearScale\"},{\"attributes\":{},\"id\":\"1018\",\"type\":\"BasicTicker\"},{\"attributes\":{},\"id\":\"1061\",\"type\":\"PanTool\"},{\"attributes\":{\"args\":{\"accordion\":{\"id\":\"1080\"}},\"code\":\"\\n    for (var child of accordion.children) {\\n      if ((child.id !== cb_obj.id) && (child.collapsed == cb_obj.collapsed) && !cb_obj.collapsed) {\\n        child.collapsed = !cb_obj.collapsed\\n      }\\n    }\\n    \"},\"id\":\"1106\",\"type\":\"CustomJS\"},{\"attributes\":{},\"id\":\"1062\",\"type\":\"WheelZoomTool\"},{\"attributes\":{},\"id\":\"1088\",\"type\":\"BasicTickFormatter\"},{\"attributes\":{\"overlay\":{\"id\":\"1067\"}},\"id\":\"1063\",\"type\":\"BoxZoomTool\"},{\"attributes\":{\"overlay\":{\"id\":\"1031\"}},\"id\":\"1027\",\"type\":\"BoxZoomTool\"},{\"attributes\":{\"below\":[{\"id\":\"1053\"}],\"center\":[{\"id\":\"1056\"},{\"id\":\"1060\"}],\"left\":[{\"id\":\"1057\"}],\"margin\":[5,5,5,5],\"name\":\"Line\",\"plot_height\":300,\"plot_width\":300,\"renderers\":[{\"id\":\"1078\"}],\"title\":{\"id\":\"1098\"},\"toolbar\":{\"id\":\"1068\"},\"x_range\":{\"id\":\"1045\"},\"x_scale\":{\"id\":\"1049\"},\"y_range\":{\"id\":\"1047\"},\"y_scale\":{\"id\":\"1051\"}},\"id\":\"1044\",\"subtype\":\"Figure\",\"type\":\"Plot\"},{\"attributes\":{},\"id\":\"1064\",\"type\":\"SaveTool\"},{\"attributes\":{},\"id\":\"1026\",\"type\":\"WheelZoomTool\"},{\"attributes\":{},\"id\":\"1065\",\"type\":\"ResetTool\"},{\"attributes\":{\"source\":{\"id\":\"1075\"}},\"id\":\"1079\",\"type\":\"CDSView\"},{\"attributes\":{},\"id\":\"1066\",\"type\":\"HelpTool\"},{\"attributes\":{\"css_classes\":[\"card-title\"],\"margin\":[2,5,2,5],\"name\":\"HTML01467\",\"sizing_mode\":\"stretch_width\",\"text\":\"Line\"},\"id\":\"1096\",\"type\":\"panel.models.markup.HTML\"}],\"root_ids\":[\"1080\"]},\"title\":\"Bokeh Application\",\"version\":\"2.2.2\"}};\n",
       "    var render_items = [{\"docid\":\"a9be63fd-1b86-46ab-9129-0becb71a630b\",\"root_ids\":[\"1080\"],\"roots\":{\"1080\":\"837c2365-9b4d-471e-bd9b-1f186a08691f\"}}];\n",
       "    root.Bokeh.embed.embed_items_notebook(docs_json, render_items);\n",
       "  }\n",
       "  if (root.Bokeh !== undefined && root.Bokeh.Panel !== undefined && root['echarts'] !== undefined && (root.Bokeh.Models.registered_names().indexOf(\"ipywidgets_bokeh.widget.IPyWidget\") > -1)) {\n",
       "    embed_document(root);\n",
       "  } else {\n",
       "    var attempts = 0;\n",
       "    var timer = setInterval(function(root) {\n",
       "      if (root.Bokeh !== undefined && root.Bokeh.Panel !== undefined && root['echarts'] !== undefined&& (root.Bokeh.Models.registered_names().indexOf(\"ipywidgets_bokeh.widget.IPyWidget\") > -1)) {\n",
       "        clearInterval(timer);\n",
       "        embed_document(root);\n",
       "      } else if (document.readyState == \"complete\") {\n",
       "        attempts++;\n",
       "        if (attempts > 100) {\n",
       "          clearInterval(timer);\n",
       "          console.log(\"Bokeh: ERROR: Unable to run BokehJS code because BokehJS library is missing\");\n",
       "        }\n",
       "      }\n",
       "    }, 10, root)\n",
       "  }\n",
       "})(window);</script>"
      ],
      "text/plain": [
       "Accordion(toggle=True)\n",
       "    [0] Bokeh(Figure, name='Scatter')\n",
       "    [1] Bokeh(Figure, name='Line')"
      ]
     },
     "execution_count": 3,
     "metadata": {
      "application/vnd.holoviews_exec.v0+json": {
       "id": "1080"
      }
     },
     "output_type": "execute_result"
    }
   ],
   "source": [
    "from bokeh.plotting import figure\n",
    "\n",
    "p1 = figure(width=300, height=300, name='Scatter', margin=5)\n",
    "p1.scatter([0, 1, 2, 3, 4, 5, 6], [0, 1, 2, 3, 2, 1, 0])\n",
    "\n",
    "p2 = figure(width=300, height=300, name='Line', margin=5)\n",
    "p2.line([0, 1, 2, 3, 4, 5, 6], [0, 1, 2, 3, 2, 1, 0])\n",
    "\n",
    "accordion = pn.Accordion(('Scatter', p1), p2, toggle=True)\n",
    "accordion"
   ]
  },
  {
   "cell_type": "markdown",
   "metadata": {},
   "source": [
    "## ipywidgets support\n",
    "\n",
    "The Bokeh and [`ipywidgets`](https://ipywidgets.readthedocs.io/en/stable/) ecosystems are both thriving but until recently they have not played very well together. Since version 0.7, Panel has supported rendering as an `ipywidget`, so that Panel components can be used in a library like [Voilà](https://github.com/voila-dashboards/voila):"
   ]
  },
  {
   "cell_type": "code",
   "execution_count": 4,
   "metadata": {},
   "outputs": [
    {
     "data": {
      "application/vnd.jupyter.widget-view+json": {
       "model_id": "3e7a33b5a85a4ff292e3381e25df5f90",
       "version_major": 2,
       "version_minor": 0
      },
      "text/plain": [
       "VBox(children=(Label(value='This is a Bokeh/Panel widget inside an ipywidgets layout:'), BokehModel(combine_ev…"
      ]
     },
     "metadata": {},
     "output_type": "display_data"
    }
   ],
   "source": [
    "import ipywidgets as ipw\n",
    "from ipyleaflet import Map, VideoOverlay\n",
    "\n",
    "slider = pn.widgets.IntSlider()\n",
    "\n",
    "ipw.VBox([ipw.Label('This is a Bokeh/Panel widget inside an ipywidgets layout:'), pn.ipywidget(slider)])"
   ]
  },
  {
   "cell_type": "markdown",
   "metadata": {},
   "source": [
    "In this release we have also added support for using ipywidgets directly inside your Panel app and even deploying it on the (Bokeh-based) Panel server. Just install `ipywidgets_bokeh` with `conda install -c bokeh ipywidget_bokeh` or using pip with `pip install ipywidgets_bokeh`."
   ]
  },
  {
   "cell_type": "code",
   "execution_count": 5,
   "metadata": {},
   "outputs": [
    {
     "data": {},
     "metadata": {},
     "output_type": "display_data"
    },
    {
     "data": {
      "application/vnd.holoviews_exec.v0+json": "",
      "text/html": [
       "<div id='1200'>\n",
       "\n",
       "\n",
       "\n",
       "\n",
       "\n",
       "  <div class=\"bk-root\" id=\"c9a0c2b6-7ff9-4091-8636-88fb981cb85c\" data-root-id=\"1200\"></div>\n",
       "</div>\n",
       "<script type=\"application/javascript\">(function(root) {\n",
       "  function embed_document(root) {\n",
       "    var docs_json = {\"1ecf8639-97b5-461e-a99d-ebd84be8db25\":{\"roots\":{\"references\":[{\"attributes\":{\"children\":[{\"id\":\"1201\"},{\"id\":\"1218\"}],\"margin\":[0,0,0,0],\"name\":\"Column01475\",\"sizing_mode\":\"stretch_width\",\"tags\":[\"embedded\"]},\"id\":\"1200\",\"type\":\"Column\"},{\"attributes\":{\"css_classes\":[\"markdown\"],\"margin\":[5,5,5,5],\"name\":\"Markdown01471\",\"text\":\"&lt;h1&gt;ipyleaflet in Panel&lt;/h1&gt;\"},\"id\":\"1201\",\"type\":\"panel.models.markup.HTML\"},{\"attributes\":{\"bundle\":{\"spec\":{\"model_id\":\"de14ba0fb3af42a8a31dc0f6a5aaca1e\",\"version_major\":2,\"version_minor\":0},\"state\":{\"state\":{\"125ceda043a04ad2b2930a9140f1eced\":{\"model_module\":\"jupyter-leaflet\",\"model_module_version\":\"^0.12.6\",\"model_name\":\"LeafletMapStyleModel\",\"state\":{}},\"2382424cad8e4300be95d82228552bbf\":{\"model_module\":\"@jupyter-widgets/base\",\"model_module_version\":\"1.2.0\",\"model_name\":\"LayoutModel\",\"state\":{}},\"44881cc69d064a65bed15888db926d23\":{\"model_module\":\"jupyter-leaflet\",\"model_module_version\":\"^0.12.6\",\"model_name\":\"LeafletMapStyleModel\",\"state\":{\"cursor\":\"move\"}},\"85f53528552d4b2ea8e5b778d4ff5fd3\":{\"model_module\":\"jupyter-leaflet\",\"model_module_version\":\"^0.12.6\",\"model_name\":\"LeafletVideoOverlayModel\",\"state\":{\"bounds\":[[13,-130],[32,-100]],\"options\":[\"attribution\"],\"url\":\"https://www.mapbox.com/bites/00188/patricia_nasa.webm\"}},\"91e6b402ec2c46698e6d388458391a37\":{\"model_module\":\"jupyter-leaflet\",\"model_module_version\":\"^0.12.6\",\"model_name\":\"LeafletMapStyleModel\",\"state\":{}},\"997de0ab747e4ccda6a1e4cadb6b1d4f\":{\"model_module\":\"jupyter-leaflet\",\"model_module_version\":\"^0.12.6\",\"model_name\":\"LeafletZoomControlModel\",\"state\":{\"options\":[\"position\",\"zoom_in_text\",\"zoom_in_title\",\"zoom_out_text\",\"zoom_out_title\"]}},\"b1500eca08764c159fbec703c2b6065c\":{\"model_module\":\"jupyter-leaflet\",\"model_module_version\":\"^0.12.6\",\"model_name\":\"LeafletAttributionControlModel\",\"state\":{\"options\":[\"position\",\"prefix\"],\"position\":\"bottomright\"}},\"de14ba0fb3af42a8a31dc0f6a5aaca1e\":{\"model_module\":\"jupyter-leaflet\",\"model_module_version\":\"^0.12.6\",\"model_name\":\"LeafletMapModel\",\"state\":{\"_dom_classes\":[],\"center\":[25,-115],\"controls\":[\"IPY_MODEL_997de0ab747e4ccda6a1e4cadb6b1d4f\",\"IPY_MODEL_b1500eca08764c159fbec703c2b6065c\"],\"default_style\":\"IPY_MODEL_125ceda043a04ad2b2930a9140f1eced\",\"dragging_style\":\"IPY_MODEL_44881cc69d064a65bed15888db926d23\",\"layers\":[\"IPY_MODEL_e34381dcb9fc442a8c6fb2bac6adbb42\",\"IPY_MODEL_85f53528552d4b2ea8e5b778d4ff5fd3\"],\"layout\":\"IPY_MODEL_2382424cad8e4300be95d82228552bbf\",\"options\":[\"bounce_at_zoom_limits\",\"box_zoom\",\"center\",\"close_popup_on_click\",\"double_click_zoom\",\"dragging\",\"fullscreen\",\"inertia\",\"inertia_deceleration\",\"inertia_max_speed\",\"interpolation\",\"keyboard\",\"keyboard_pan_offset\",\"keyboard_zoom_offset\",\"max_zoom\",\"min_zoom\",\"scroll_wheel_zoom\",\"tap\",\"tap_tolerance\",\"touch_zoom\",\"world_copy_jump\",\"zoom\",\"zoom_animation_threshold\",\"zoom_start\"],\"style\":\"IPY_MODEL_91e6b402ec2c46698e6d388458391a37\",\"zoom\":4.0}},\"e34381dcb9fc442a8c6fb2bac6adbb42\":{\"model_module\":\"jupyter-leaflet\",\"model_module_version\":\"^0.12.6\",\"model_name\":\"LeafletTileLayerModel\",\"state\":{\"base\":true,\"max_zoom\":19,\"min_zoom\":1,\"options\":[\"attribution\",\"detect_retina\",\"max_native_zoom\",\"max_zoom\",\"min_native_zoom\",\"min_zoom\",\"no_wrap\",\"tile_size\",\"tms\"]}}},\"version_major\":2,\"version_minor\":0}},\"margin\":[5,5,5,5],\"name\":\"IPyLeaflet01473\",\"sizing_mode\":\"stretch_width\"},\"id\":\"1218\",\"type\":\"ipywidgets_bokeh.widget.IPyWidget\"}],\"root_ids\":[\"1200\"]},\"title\":\"Bokeh Application\",\"version\":\"2.2.2\"}};\n",
       "    var render_items = [{\"docid\":\"1ecf8639-97b5-461e-a99d-ebd84be8db25\",\"root_ids\":[\"1200\"],\"roots\":{\"1200\":\"c9a0c2b6-7ff9-4091-8636-88fb981cb85c\"}}];\n",
       "    root.Bokeh.embed.embed_items_notebook(docs_json, render_items);\n",
       "  }\n",
       "  if (root.Bokeh !== undefined && root.Bokeh.Panel !== undefined && root['echarts'] !== undefined && (root.Bokeh.Models.registered_names().indexOf(\"ipywidgets_bokeh.widget.IPyWidget\") > -1)) {\n",
       "    embed_document(root);\n",
       "  } else {\n",
       "    var attempts = 0;\n",
       "    var timer = setInterval(function(root) {\n",
       "      if (root.Bokeh !== undefined && root.Bokeh.Panel !== undefined && root['echarts'] !== undefined&& (root.Bokeh.Models.registered_names().indexOf(\"ipywidgets_bokeh.widget.IPyWidget\") > -1)) {\n",
       "        clearInterval(timer);\n",
       "        embed_document(root);\n",
       "      } else if (document.readyState == \"complete\") {\n",
       "        attempts++;\n",
       "        if (attempts > 100) {\n",
       "          clearInterval(timer);\n",
       "          console.log(\"Bokeh: ERROR: Unable to run BokehJS code because BokehJS library is missing\");\n",
       "        }\n",
       "      }\n",
       "    }, 10, root)\n",
       "  }\n",
       "})(window);</script>"
      ],
      "text/plain": [
       "Column(sizing_mode='stretch_width')\n",
       "    [0] Markdown(str)\n",
       "    [1] IPyLeaflet(Map)"
      ]
     },
     "execution_count": 5,
     "metadata": {
      "application/vnd.holoviews_exec.v0+json": {
       "id": "1200"
      }
     },
     "output_type": "execute_result"
    }
   ],
   "source": [
    "m = Map(center=(25, -115), zoom=4)\n",
    "\n",
    "video = VideoOverlay(\n",
    "    url=\"https://www.mapbox.com/bites/00188/patricia_nasa.webm\",\n",
    "    bounds=((13, -130), (32, -100))\n",
    ")\n",
    "\n",
    "m.add_layer(video);\n",
    "\n",
    "pn.Column(\n",
    "    '# ipyleaflet in Panel', m,\n",
    "    sizing_mode='stretch_width'\n",
    ")"
   ]
  },
  {
   "cell_type": "markdown",
   "metadata": {},
   "source": [
    "## Busy indicators\n",
    "\n",
    "When working with long running computations you often want to give your users an indication that the application is loading or processing. In the past, users had to use custom GIFs to indicate a busy status. This release introduces a growing set of `BusyIndicator`s that allow signalling a busy status visually.\n",
    "\n",
    "Currently, `BooleanStatus` and `LoadingSpinner` types are available. The former simply displays a filled circle to indicate when the app is busy and an empty circle when it is not, while the latter spins to indicate the busy status:"
   ]
  },
  {
   "cell_type": "code",
   "execution_count": 6,
   "metadata": {},
   "outputs": [
    {
     "data": {},
     "metadata": {},
     "output_type": "display_data"
    },
    {
     "data": {
      "application/vnd.holoviews_exec.v0+json": "",
      "text/html": [
       "<div id='1221'>\n",
       "\n",
       "\n",
       "\n",
       "\n",
       "\n",
       "  <div class=\"bk-root\" id=\"d668570a-041b-4130-b222-2907f80eec01\" data-root-id=\"1221\"></div>\n",
       "</div>\n",
       "<script type=\"application/javascript\">(function(root) {\n",
       "  function embed_document(root) {\n",
       "    var docs_json = {\"d6a07759-7079-4434-9c95-e55bc5687dfb\":{\"roots\":{\"references\":[{\"attributes\":{\"css_classes\":[\"loader\",\"spin\",\"warning-light\"],\"height\":50,\"margin\":[5,10,5,10],\"name\":\"\",\"sizing_mode\":\"fixed\",\"width\":50},\"id\":\"1237\",\"type\":\"panel.models.markup.HTML\"},{\"attributes\":{\"css_classes\":[\"dot-filled\",\"info\"],\"height\":50,\"margin\":[5,10,5,10],\"name\":\"\",\"sizing_mode\":\"fixed\",\"width\":50},\"id\":\"1226\",\"type\":\"panel.models.markup.HTML\"},{\"attributes\":{\"css_classes\":[\"dot-filled\",\"success\"],\"height\":50,\"margin\":[5,10,5,10],\"name\":\"\",\"sizing_mode\":\"fixed\",\"width\":50},\"id\":\"1225\",\"type\":\"panel.models.markup.HTML\"},{\"attributes\":{\"css_classes\":[\"loader\",\"spin\",\"primary-light\"],\"height\":50,\"margin\":[5,10,5,10],\"name\":\"\",\"sizing_mode\":\"fixed\",\"width\":50},\"id\":\"1232\",\"type\":\"panel.models.markup.HTML\"},{\"attributes\":{\"css_classes\":[\"dot-filled\",\"secondary\"],\"height\":50,\"margin\":[5,10,5,10],\"name\":\"\",\"sizing_mode\":\"fixed\",\"width\":50},\"id\":\"1224\",\"type\":\"panel.models.markup.HTML\"},{\"attributes\":{\"css_classes\":[\"dot-filled\",\"danger\"],\"height\":50,\"margin\":[5,10,5,10],\"name\":\"\",\"sizing_mode\":\"fixed\",\"width\":50},\"id\":\"1227\",\"type\":\"panel.models.markup.HTML\"},{\"attributes\":{\"css_classes\":[\"loader\",\"spin\",\"secondary-light\"],\"height\":50,\"margin\":[5,10,5,10],\"name\":\"\",\"sizing_mode\":\"fixed\",\"width\":50},\"id\":\"1233\",\"type\":\"panel.models.markup.HTML\"},{\"attributes\":{\"css_classes\":[\"loader\",\"spin\",\"light-light\"],\"height\":50,\"margin\":[5,10,5,10],\"name\":\"\",\"sizing_mode\":\"fixed\",\"width\":50},\"id\":\"1238\",\"type\":\"panel.models.markup.HTML\"},{\"attributes\":{\"children\":[{\"id\":\"1223\"},{\"id\":\"1224\"},{\"id\":\"1225\"},{\"id\":\"1226\"},{\"id\":\"1227\"},{\"id\":\"1228\"},{\"id\":\"1229\"},{\"id\":\"1230\"}],\"margin\":[0,0,0,0],\"name\":\"Row01486\"},\"id\":\"1222\",\"type\":\"Row\"},{\"attributes\":{\"css_classes\":[\"loader\",\"spin\",\"success-light\"],\"height\":50,\"margin\":[5,10,5,10],\"name\":\"\",\"sizing_mode\":\"fixed\",\"width\":50},\"id\":\"1234\",\"type\":\"panel.models.markup.HTML\"},{\"attributes\":{\"css_classes\":[\"loader\",\"spin\",\"dark-light\"],\"height\":50,\"margin\":[5,10,5,10],\"name\":\"\",\"sizing_mode\":\"fixed\",\"width\":50},\"id\":\"1239\",\"type\":\"panel.models.markup.HTML\"},{\"attributes\":{\"children\":[{\"id\":\"1222\"},{\"id\":\"1231\"}],\"margin\":[0,0,0,0],\"name\":\"Column01496\",\"tags\":[\"embedded\"]},\"id\":\"1221\",\"type\":\"Column\"},{\"attributes\":{\"css_classes\":[\"dot-filled\",\"warning\"],\"height\":50,\"margin\":[5,10,5,10],\"name\":\"\",\"sizing_mode\":\"fixed\",\"width\":50},\"id\":\"1228\",\"type\":\"panel.models.markup.HTML\"},{\"attributes\":{\"css_classes\":[\"loader\",\"spin\",\"info-light\"],\"height\":50,\"margin\":[5,10,5,10],\"name\":\"\",\"sizing_mode\":\"fixed\",\"width\":50},\"id\":\"1235\",\"type\":\"panel.models.markup.HTML\"},{\"attributes\":{\"css_classes\":[\"dot-filled\",\"dark\"],\"height\":50,\"margin\":[5,10,5,10],\"name\":\"\",\"sizing_mode\":\"fixed\",\"width\":50},\"id\":\"1230\",\"type\":\"panel.models.markup.HTML\"},{\"attributes\":{\"children\":[{\"id\":\"1232\"},{\"id\":\"1233\"},{\"id\":\"1234\"},{\"id\":\"1235\"},{\"id\":\"1236\"},{\"id\":\"1237\"},{\"id\":\"1238\"},{\"id\":\"1239\"}],\"margin\":[0,0,0,0],\"name\":\"Row01495\"},\"id\":\"1231\",\"type\":\"Row\"},{\"attributes\":{\"css_classes\":[\"dot-filled\",\"light\"],\"height\":50,\"margin\":[5,10,5,10],\"name\":\"\",\"sizing_mode\":\"fixed\",\"width\":50},\"id\":\"1229\",\"type\":\"panel.models.markup.HTML\"},{\"attributes\":{\"css_classes\":[\"dot-filled\",\"primary\"],\"height\":50,\"margin\":[5,10,5,10],\"name\":\"\",\"sizing_mode\":\"fixed\",\"width\":50},\"id\":\"1223\",\"type\":\"panel.models.markup.HTML\"},{\"attributes\":{\"css_classes\":[\"loader\",\"spin\",\"danger-light\"],\"height\":50,\"margin\":[5,10,5,10],\"name\":\"\",\"sizing_mode\":\"fixed\",\"width\":50},\"id\":\"1236\",\"type\":\"panel.models.markup.HTML\"}],\"root_ids\":[\"1221\"]},\"title\":\"Bokeh Application\",\"version\":\"2.2.2\"}};\n",
       "    var render_items = [{\"docid\":\"d6a07759-7079-4434-9c95-e55bc5687dfb\",\"root_ids\":[\"1221\"],\"roots\":{\"1221\":\"d668570a-041b-4130-b222-2907f80eec01\"}}];\n",
       "    root.Bokeh.embed.embed_items_notebook(docs_json, render_items);\n",
       "  }\n",
       "  if (root.Bokeh !== undefined && root.Bokeh.Panel !== undefined && root['echarts'] !== undefined && (root.Bokeh.Models.registered_names().indexOf(\"ipywidgets_bokeh.widget.IPyWidget\") > -1)) {\n",
       "    embed_document(root);\n",
       "  } else {\n",
       "    var attempts = 0;\n",
       "    var timer = setInterval(function(root) {\n",
       "      if (root.Bokeh !== undefined && root.Bokeh.Panel !== undefined && root['echarts'] !== undefined&& (root.Bokeh.Models.registered_names().indexOf(\"ipywidgets_bokeh.widget.IPyWidget\") > -1)) {\n",
       "        clearInterval(timer);\n",
       "        embed_document(root);\n",
       "      } else if (document.readyState == \"complete\") {\n",
       "        attempts++;\n",
       "        if (attempts > 100) {\n",
       "          clearInterval(timer);\n",
       "          console.log(\"Bokeh: ERROR: Unable to run BokehJS code because BokehJS library is missing\");\n",
       "        }\n",
       "      }\n",
       "    }, 10, root)\n",
       "  }\n",
       "})(window);</script>"
      ],
      "text/plain": [
       "Column\n",
       "    [0] Row\n",
       "        [0] BooleanStatus(color='primary', height=50, value=True, width=50)\n",
       "        [1] BooleanStatus(color='secondary', height=50, value=True, width=50)\n",
       "        [2] BooleanStatus(color='success', height=50, value=True, width=50)\n",
       "        [3] BooleanStatus(color='info', height=50, value=True, width=50)\n",
       "        [4] BooleanStatus(color='danger', height=50, value=True, width=50)\n",
       "        [5] BooleanStatus(color='warning', height=50, value=True, width=50)\n",
       "        [6] BooleanStatus(color='light', height=50, value=True, width=50)\n",
       "        [7] BooleanStatus(height=50, value=True, width=50)\n",
       "    [1] Row\n",
       "        [0] LoadingSpinner(color='primary', height=50, value=True, width=50)\n",
       "        [1] LoadingSpinner(color='secondary', height=50, value=True, width=50)\n",
       "        [2] LoadingSpinner(color='success', height=50, value=True, width=50)\n",
       "        [3] LoadingSpinner(color='info', height=50, value=True, width=50)\n",
       "        [4] LoadingSpinner(color='danger', height=50, value=True, width=50)\n",
       "        [5] LoadingSpinner(color='warning', height=50, value=True, width=50)\n",
       "        [6] LoadingSpinner(color='light', height=50, value=True, width=50)\n",
       "        [7] LoadingSpinner(height=50, value=True, width=50)"
      ]
     },
     "execution_count": 6,
     "metadata": {
      "application/vnd.holoviews_exec.v0+json": {
       "id": "1221"
      }
     },
     "output_type": "execute_result"
    }
   ],
   "source": [
    "from panel.widgets.indicators import BooleanStatus, LoadingSpinner\n",
    "\n",
    "pn.Column(\n",
    "    pn.Row(\n",
    "        *(BooleanStatus(value=True, width=50, height=50, color=color)\n",
    "        for color in LoadingSpinner.param.color.objects)\n",
    "    ),\n",
    "    pn.Row(\n",
    "        *(LoadingSpinner(value=True, width=50, height=50, color=color)\n",
    "        for color in LoadingSpinner.param.color.objects)\n",
    "    ),\n",
    ")"
   ]
  },
  {
   "cell_type": "markdown",
   "metadata": {},
   "source": [
    "This release also adds the `pn.state.sync_busy` method, which links the indicators to a global busy state. Now, whenever the application is busy processing a request, an indicator can automatically display this state:\n",
    "\n",
    "```python\n",
    "spinner = LoadingSpinner()\n",
    "pn.state.sync_busy(spinner)\n",
    "```"
   ]
  },
  {
   "cell_type": "markdown",
   "metadata": {},
   "source": [
    "This method makes it very straightforward to include such an indicator in your application. As a bonus, the templates mentioned above automatically add such an indicator to the header, so you don't need to do anything at all to have a busy indicator if you use one of the templates."
   ]
  },
  {
   "cell_type": "markdown",
   "metadata": {},
   "source": [
    "## ECharts\n",
    "\n",
    "The [ECharts library](https://echarts.apache.org/en/index.html) supports a wide range of plot types and makes it easy to generate polished plots with animated transitions. Panel now supports rendering ECharts from a simple JSON-style specification:"
   ]
  },
  {
   "cell_type": "code",
   "execution_count": 7,
   "metadata": {},
   "outputs": [
    {
     "data": {},
     "metadata": {},
     "output_type": "display_data"
    },
    {
     "data": {
      "application/vnd.holoviews_exec.v0+json": "",
      "text/html": [
       "<div id='1242'>\n",
       "\n",
       "\n",
       "\n",
       "\n",
       "\n",
       "  <div class=\"bk-root\" id=\"26533b02-b168-4fd3-a35d-e2f7f37837fe\" data-root-id=\"1242\"></div>\n",
       "</div>\n",
       "<script type=\"application/javascript\">(function(root) {\n",
       "  function embed_document(root) {\n",
       "    var docs_json = {\"dcfdb26c-607f-4898-8443-d4abfab62640\":{\"roots\":{\"references\":[{\"attributes\":{\"args\":{\"echart\":{\"id\":\"1244\"},\"source\":{\"id\":\"1243\"}},\"code\":\"try { \\nechart.data.series[0].type = cb_obj.value\\nechart.properties.data.change.emit()\\n } catch(err) { console.log(err) }\",\"tags\":[4907614160]},\"id\":\"1245\",\"type\":\"CustomJS\"},{\"attributes\":{\"js_property_callbacks\":{\"change:value\":[{\"id\":\"1245\"}]},\"margin\":[5,10,5,10],\"options\":[\"bar\",\"line\",\"scatter\"],\"title\":\"Plot type\",\"value\":\"bar\"},\"id\":\"1243\",\"type\":\"Select\"},{\"attributes\":{\"data\":{\"legend\":{\"data\":[\"Sales\"]},\"series\":[{\"data\":[5,20,36,10,10,20],\"name\":\"Sales\",\"type\":\"bar\"}],\"title\":{\"text\":\"ECharts entry example\"},\"tooltip\":{},\"xAxis\":{\"data\":[\"shirt\",\"cardign\",\"chiffon shirt\",\"pants\",\"heels\",\"socks\"]},\"yAxis\":{}},\"height\":480,\"margin\":[5,5,5,5],\"name\":\"ECharts01500\",\"sizing_mode\":\"fixed\",\"width\":640},\"id\":\"1244\",\"type\":\"panel.models.echarts.ECharts\"},{\"attributes\":{\"children\":[{\"id\":\"1243\"},{\"id\":\"1244\"}],\"margin\":[0,0,0,0],\"name\":\"Column01503\",\"tags\":[\"embedded\"]},\"id\":\"1242\",\"type\":\"Column\"}],\"root_ids\":[\"1242\"]},\"title\":\"Bokeh Application\",\"version\":\"2.2.2\"}};\n",
       "    var render_items = [{\"docid\":\"dcfdb26c-607f-4898-8443-d4abfab62640\",\"root_ids\":[\"1242\"],\"roots\":{\"1242\":\"26533b02-b168-4fd3-a35d-e2f7f37837fe\"}}];\n",
       "    root.Bokeh.embed.embed_items_notebook(docs_json, render_items);\n",
       "  }\n",
       "  if (root.Bokeh !== undefined && root.Bokeh.Panel !== undefined && root['echarts'] !== undefined && (root.Bokeh.Models.registered_names().indexOf(\"ipywidgets_bokeh.widget.IPyWidget\") > -1)) {\n",
       "    embed_document(root);\n",
       "  } else {\n",
       "    var attempts = 0;\n",
       "    var timer = setInterval(function(root) {\n",
       "      if (root.Bokeh !== undefined && root.Bokeh.Panel !== undefined && root['echarts'] !== undefined&& (root.Bokeh.Models.registered_names().indexOf(\"ipywidgets_bokeh.widget.IPyWidget\") > -1)) {\n",
       "        clearInterval(timer);\n",
       "        embed_document(root);\n",
       "      } else if (document.readyState == \"complete\") {\n",
       "        attempts++;\n",
       "        if (attempts > 100) {\n",
       "          clearInterval(timer);\n",
       "          console.log(\"Bokeh: ERROR: Unable to run BokehJS code because BokehJS library is missing\");\n",
       "        }\n",
       "      }\n",
       "    }, 10, root)\n",
       "  }\n",
       "})(window);</script>"
      ],
      "text/plain": [
       "Column\n",
       "    [0] Select(name='Plot type', options=['bar', 'line', ...], value='bar')\n",
       "    [1] ECharts(dict, height=480, sizing_mode='fixed', width=640)"
      ]
     },
     "execution_count": 7,
     "metadata": {
      "application/vnd.holoviews_exec.v0+json": {
       "id": "1242"
      }
     },
     "output_type": "execute_result"
    }
   ],
   "source": [
    "echart = {\n",
    "    'title': {\n",
    "        'text': 'ECharts entry example'\n",
    "    },\n",
    "    'tooltip': {},\n",
    "    'legend': {\n",
    "        'data':['Sales']\n",
    "    },\n",
    "    'xAxis': {\n",
    "        'data': [\"shirt\",\"cardign\",\"chiffon shirt\",\"pants\",\"heels\",\"socks\"]\n",
    "    },\n",
    "    'yAxis': {},\n",
    "    'series': [{\n",
    "        'name': 'Sales',\n",
    "        'type': 'bar',\n",
    "        'data': [5, 20, 36, 10, 10, 20]\n",
    "    }],\n",
    "};\n",
    "\n",
    "plot_type = pn.widgets.Select(name=\"Plot type\", options=['bar', 'line', 'scatter'], value='bar')\n",
    "\n",
    "echart_pane = pn.pane.ECharts(echart, height=480, width=640)\n",
    "\n",
    "plot_type.jscallback(args={'echart': echart_pane}, value=\"\"\"\n",
    "echart.data.series[0].type = cb_obj.value\n",
    "echart.properties.data.change.emit()\n",
    "\"\"\")\n",
    "\n",
    "pn.Column(plot_type, echart_pane)"
   ]
  },
  {
   "cell_type": "markdown",
   "metadata": {},
   "source": [
    "## Indicators\n",
    "\n",
    "This release also includes a number of `ValueIndicator` types, similar to the `BooleanIndicator` components we discussed above. A ValueIndicator provides a quick way to visualize a scalar, numeric value, which comes in very useful for building BI dashboards."
   ]
  },
  {
   "cell_type": "markdown",
   "metadata": {},
   "source": [
    "### Dial"
   ]
  },
  {
   "cell_type": "code",
   "execution_count": 8,
   "metadata": {},
   "outputs": [
    {
     "data": {},
     "metadata": {},
     "output_type": "display_data"
    },
    {
     "data": {
      "application/vnd.holoviews_exec.v0+json": "",
      "text/html": [
       "<div id='1248'>\n",
       "\n",
       "\n",
       "\n",
       "\n",
       "\n",
       "  <div class=\"bk-root\" id=\"11b677c1-6c95-48f6-82da-a4a0a2533df5\" data-root-id=\"1248\"></div>\n",
       "</div>\n",
       "<script type=\"application/javascript\">(function(root) {\n",
       "  function embed_document(root) {\n",
       "    var docs_json = {\"8b6305d5-1818-4fc3-93df-33d09044a208\":{\"roots\":{\"references\":[{\"attributes\":{\"source\":{\"id\":\"1351\"}},\"id\":\"1356\",\"type\":\"CDSView\"},{\"attributes\":{\"data_source\":{\"id\":\"1327\"},\"glyph\":{\"id\":\"1329\"},\"hover_glyph\":null,\"muted_glyph\":null,\"nonselection_glyph\":{\"id\":\"1330\"},\"selection_glyph\":null,\"view\":{\"id\":\"1332\"}},\"id\":\"1331\",\"type\":\"GlyphRenderer\"},{\"attributes\":{\"data\":{\"end\":{\"__ndarray__\":\"ZGV6Ho6jIkA=\",\"dtype\":\"float64\",\"order\":\"little\",\"shape\":[1]},\"radius\":{\"__ndarray__\":\"zczMzMzM7D8=\",\"dtype\":\"float64\",\"order\":\"little\",\"shape\":[1]},\"start\":{\"__ndarray__\":\"MDJH61pwIkA=\",\"dtype\":\"float64\",\"order\":\"little\",\"shape\":[1]},\"x\":{\"__ndarray__\":\"cFC9zgd07D8=\",\"dtype\":\"float64\",\"order\":\"little\",\"shape\":[1]},\"y\":{\"__ndarray__\":\"p0pHTpjSwb8=\",\"dtype\":\"float64\",\"order\":\"little\",\"shape\":[1]}},\"name\":\"needle_source\",\"selected\":{\"id\":\"1411\"},\"selection_policy\":{\"id\":\"1412\"}},\"id\":\"1357\",\"type\":\"ColumnDataSource\"},{\"attributes\":{},\"id\":\"1396\",\"type\":\"UnionRenderers\"},{\"attributes\":{},\"id\":\"1411\",\"type\":\"Selection\"},{\"attributes\":{\"angle\":{\"field\":\"rot\",\"units\":\"rad\"},\"text_align\":\"center\",\"text_alpha\":{\"value\":0.1},\"text_baseline\":\"top\",\"text_color\":{\"field\":\"color\"},\"text_font_size\":{\"field\":\"size\"},\"x\":{\"field\":\"x\"},\"y\":{\"field\":\"y\"}},\"id\":\"1330\",\"type\":\"Text\"},{\"attributes\":{\"start\":-1},\"id\":\"1334\",\"type\":\"Range1d\"},{\"attributes\":{\"below\":[{\"id\":\"1300\"}],\"center\":[{\"id\":\"1303\"},{\"id\":\"1307\"}],\"left\":[{\"id\":\"1304\"}],\"margin\":[5,10,5,10],\"name\":\"Failure Rate\",\"outline_line_color\":null,\"plot_height\":250,\"plot_width\":250,\"renderers\":[{\"id\":\"1313\"},{\"id\":\"1319\"},{\"id\":\"1325\"},{\"id\":\"1331\"}],\"sizing_mode\":\"fixed\",\"title\":{\"id\":\"1378\"},\"toolbar\":{\"id\":\"1308\"},\"toolbar_location\":null,\"x_range\":{\"id\":\"1292\"},\"x_scale\":{\"id\":\"1296\"},\"y_range\":{\"id\":\"1294\"},\"y_scale\":{\"id\":\"1298\"}},\"id\":\"1291\",\"subtype\":\"Figure\",\"type\":\"Plot\"},{\"attributes\":{\"data_source\":{\"id\":\"1285\"},\"glyph\":{\"id\":\"1287\"},\"hover_glyph\":null,\"muted_glyph\":null,\"nonselection_glyph\":{\"id\":\"1288\"},\"selection_glyph\":null,\"view\":{\"id\":\"1290\"}},\"id\":\"1289\",\"type\":\"GlyphRenderer\"},{\"attributes\":{\"source\":{\"id\":\"1327\"}},\"id\":\"1332\",\"type\":\"CDSView\"},{\"attributes\":{\"data_source\":{\"id\":\"1363\"},\"glyph\":{\"id\":\"1365\"},\"hover_glyph\":null,\"muted_glyph\":null,\"nonselection_glyph\":{\"id\":\"1366\"},\"selection_glyph\":null,\"view\":{\"id\":\"1368\"}},\"id\":\"1367\",\"type\":\"GlyphRenderer\"},{\"attributes\":{\"source\":{\"id\":\"1357\"}},\"id\":\"1362\",\"type\":\"CDSView\"},{\"attributes\":{},\"id\":\"1405\",\"type\":\"Selection\"},{\"attributes\":{},\"id\":\"1410\",\"type\":\"UnionRenderers\"},{\"attributes\":{\"formatter\":{\"id\":\"1385\"},\"ticker\":{\"id\":\"1305\"},\"visible\":false},\"id\":\"1304\",\"type\":\"LinearAxis\"},{\"attributes\":{\"axis\":{\"id\":\"1304\"},\"dimension\":1,\"ticker\":null,\"visible\":false},\"id\":\"1307\",\"type\":\"Grid\"},{\"attributes\":{\"data\":{\"color\":[],\"x0\":[],\"x1\":[],\"y0\":[],\"y1\":[]},\"name\":\"threshold_source\",\"selected\":{\"id\":\"1413\"},\"selection_policy\":{\"id\":\"1414\"}},\"id\":\"1363\",\"type\":\"ColumnDataSource\"},{\"attributes\":{},\"id\":\"1340\",\"type\":\"LinearScale\"},{\"attributes\":{\"active_drag\":\"auto\",\"active_inspect\":\"auto\",\"active_multi\":null,\"active_scroll\":\"auto\",\"active_tap\":\"auto\"},\"id\":\"1308\",\"type\":\"Toolbar\"},{\"attributes\":{\"data_source\":{\"id\":\"1321\"},\"glyph\":{\"id\":\"1323\"},\"hover_glyph\":null,\"muted_glyph\":null,\"nonselection_glyph\":{\"id\":\"1324\"},\"selection_glyph\":null,\"view\":{\"id\":\"1326\"}},\"id\":\"1325\",\"type\":\"GlyphRenderer\"},{\"attributes\":{\"start\":-1},\"id\":\"1336\",\"type\":\"Range1d\"},{\"attributes\":{\"data_source\":{\"id\":\"1357\"},\"glyph\":{\"id\":\"1359\"},\"hover_glyph\":null,\"muted_glyph\":null,\"name\":\"needle_renderer\",\"nonselection_glyph\":{\"id\":\"1360\"},\"selection_glyph\":null,\"view\":{\"id\":\"1362\"}},\"id\":\"1361\",\"type\":\"GlyphRenderer\"},{\"attributes\":{\"source\":{\"id\":\"1267\"}},\"id\":\"1272\",\"type\":\"CDSView\"},{\"attributes\":{},\"id\":\"1338\",\"type\":\"LinearScale\"},{\"attributes\":{\"line_color\":{\"field\":\"color\"},\"line_width\":{\"value\":2},\"x0\":{\"field\":\"x0\"},\"x1\":{\"field\":\"x1\"},\"y0\":{\"field\":\"y0\"},\"y1\":{\"field\":\"y1\"}},\"id\":\"1365\",\"type\":\"Segment\"},{\"attributes\":{\"data\":{\"color\":[\"black\",\"red\",\"black\",\"black\"],\"rot\":{\"__ndarray__\":\"AAAAAAAAAAAAAAAAAAAAAMU1MUdiASpAvhtqbi1jF0A=\",\"dtype\":\"float64\",\"order\":\"little\",\"shape\":[4]},\"size\":[\"20.0pt\",\"30.0pt\",\"11.25pt\",\"11.25pt\"],\"text\":[\"Failure Rate\",\"93%\",\"0%\",\"100%\"],\"x\":{\"__ndarray__\":\"AAAAAAAAAAAAAAAAAAAAABR1XKsGGuq/EXVcqwYa6j8=\",\"dtype\":\"float64\",\"order\":\"little\",\"shape\":[4]},\"y\":{\"__ndarray__\":\"mpmZmZmZyb8AAAAAAADgvz085YTCV9i/RjzlhMJX2L8=\",\"dtype\":\"float64\",\"order\":\"little\",\"shape\":[4]}},\"name\":\"label_source\",\"selected\":{\"id\":\"1415\"},\"selection_policy\":{\"id\":\"1416\"}},\"id\":\"1369\",\"type\":\"ColumnDataSource\"},{\"attributes\":{},\"id\":\"1263\",\"type\":\"BasicTicker\"},{\"attributes\":{\"data\":{\"color\":[\"green\",\"whitesmoke\"],\"ends\":{\"__ndarray__\":\"b3TVxVvrIkC+G2puLWMXQA==\",\"dtype\":\"float64\",\"order\":\"little\",\"shape\":[2]},\"radius\":{\"__ndarray__\":\"mpmZmZmZ6T+amZmZmZnpPw==\",\"dtype\":\"float64\",\"order\":\"little\",\"shape\":[2]},\"starts\":{\"__ndarray__\":\"fyogcuO4I0BvdNXFW+siQA==\",\"dtype\":\"float64\",\"order\":\"little\",\"shape\":[2]}},\"name\":\"annulus_source\",\"selected\":{\"id\":\"1393\"},\"selection_policy\":{\"id\":\"1394\"}},\"id\":\"1267\",\"type\":\"ColumnDataSource\"},{\"attributes\":{\"source\":{\"id\":\"1363\"}},\"id\":\"1368\",\"type\":\"CDSView\"},{\"attributes\":{\"formatter\":{\"id\":\"1391\"},\"ticker\":{\"id\":\"1343\"},\"visible\":false},\"id\":\"1342\",\"type\":\"LinearAxis\"},{\"attributes\":{\"text\":\"\"},\"id\":\"1376\",\"type\":\"Title\"},{\"attributes\":{},\"id\":\"1347\",\"type\":\"BasicTicker\"},{\"attributes\":{\"formatter\":{\"id\":\"1383\"},\"ticker\":{\"id\":\"1259\"},\"visible\":false},\"id\":\"1258\",\"type\":\"LinearAxis\"},{\"attributes\":{},\"id\":\"1343\",\"type\":\"BasicTicker\"},{\"attributes\":{\"axis\":{\"id\":\"1342\"},\"ticker\":null,\"visible\":false},\"id\":\"1345\",\"type\":\"Grid\"},{\"attributes\":{},\"id\":\"1305\",\"type\":\"BasicTicker\"},{\"attributes\":{\"angle\":{\"field\":\"rot\",\"units\":\"rad\"},\"text_align\":\"center\",\"text_baseline\":\"top\",\"text_color\":{\"field\":\"color\"},\"text_font_size\":{\"field\":\"size\"},\"x\":{\"field\":\"x\"},\"y\":{\"field\":\"y\"}},\"id\":\"1371\",\"type\":\"Text\"},{\"attributes\":{\"active_drag\":\"auto\",\"active_inspect\":\"auto\",\"active_multi\":null,\"active_scroll\":\"auto\",\"active_tap\":\"auto\"},\"id\":\"1350\",\"type\":\"Toolbar\"},{\"attributes\":{\"axis\":{\"id\":\"1346\"},\"dimension\":1,\"ticker\":null,\"visible\":false},\"id\":\"1349\",\"type\":\"Grid\"},{\"attributes\":{\"line_alpha\":{\"value\":0.1},\"line_color\":{\"field\":\"color\"},\"line_width\":{\"value\":2},\"x0\":{\"field\":\"x0\"},\"x1\":{\"field\":\"x1\"},\"y0\":{\"field\":\"y0\"},\"y1\":{\"field\":\"y1\"}},\"id\":\"1366\",\"type\":\"Segment\"},{\"attributes\":{\"formatter\":{\"id\":\"1389\"},\"ticker\":{\"id\":\"1347\"},\"visible\":false},\"id\":\"1346\",\"type\":\"LinearAxis\"},{\"attributes\":{},\"id\":\"1409\",\"type\":\"Selection\"},{\"attributes\":{\"below\":[{\"id\":\"1258\"}],\"center\":[{\"id\":\"1261\"},{\"id\":\"1265\"}],\"left\":[{\"id\":\"1262\"}],\"margin\":[5,10,5,10],\"name\":\"Failure Rate\",\"outline_line_color\":null,\"plot_height\":250,\"plot_width\":250,\"renderers\":[{\"id\":\"1271\"},{\"id\":\"1277\"},{\"id\":\"1283\"},{\"id\":\"1289\"}],\"sizing_mode\":\"fixed\",\"title\":{\"id\":\"1376\"},\"toolbar\":{\"id\":\"1266\"},\"toolbar_location\":null,\"x_range\":{\"id\":\"1250\"},\"x_scale\":{\"id\":\"1254\"},\"y_range\":{\"id\":\"1252\"},\"y_scale\":{\"id\":\"1256\"}},\"id\":\"1249\",\"subtype\":\"Figure\",\"type\":\"Plot\"},{\"attributes\":{\"data\":{\"end\":{\"__ndarray__\":\"TxmANHRNKUA=\",\"dtype\":\"float64\",\"order\":\"little\",\"shape\":[1]},\"radius\":{\"__ndarray__\":\"zczMzMzM7D8=\",\"dtype\":\"float64\",\"order\":\"little\",\"shape\":[1]},\"start\":{\"__ndarray__\":\"G+ZMAUEaKUA=\",\"dtype\":\"float64\",\"order\":\"little\",\"shape\":[1]},\"x\":{\"__ndarray__\":\"3YRFBk/I7L8=\",\"dtype\":\"float64\",\"order\":\"little\",\"shape\":[1]},\"y\":{\"__ndarray__\":\"wEWSgukUoL8=\",\"dtype\":\"float64\",\"order\":\"little\",\"shape\":[1]}},\"name\":\"needle_source\",\"selected\":{\"id\":\"1395\"},\"selection_policy\":{\"id\":\"1396\"}},\"id\":\"1273\",\"type\":\"ColumnDataSource\"},{\"attributes\":{\"data_source\":{\"id\":\"1369\"},\"glyph\":{\"id\":\"1371\"},\"hover_glyph\":null,\"muted_glyph\":null,\"nonselection_glyph\":{\"id\":\"1372\"},\"selection_glyph\":null,\"view\":{\"id\":\"1374\"}},\"id\":\"1373\",\"type\":\"GlyphRenderer\"},{\"attributes\":{},\"id\":\"1394\",\"type\":\"UnionRenderers\"},{\"attributes\":{\"start\":-1},\"id\":\"1252\",\"type\":\"Range1d\"},{\"attributes\":{},\"id\":\"1301\",\"type\":\"BasicTicker\"},{\"attributes\":{},\"id\":\"1406\",\"type\":\"UnionRenderers\"},{\"attributes\":{\"data_source\":{\"id\":\"1267\"},\"glyph\":{\"id\":\"1269\"},\"hover_glyph\":null,\"muted_glyph\":null,\"nonselection_glyph\":{\"id\":\"1270\"},\"selection_glyph\":null,\"view\":{\"id\":\"1272\"}},\"id\":\"1271\",\"type\":\"GlyphRenderer\"},{\"attributes\":{},\"id\":\"1395\",\"type\":\"Selection\"},{\"attributes\":{\"data_source\":{\"id\":\"1279\"},\"glyph\":{\"id\":\"1281\"},\"hover_glyph\":null,\"muted_glyph\":null,\"nonselection_glyph\":{\"id\":\"1282\"},\"selection_glyph\":null,\"view\":{\"id\":\"1284\"}},\"id\":\"1283\",\"type\":\"GlyphRenderer\"},{\"attributes\":{\"angle\":{\"field\":\"rot\",\"units\":\"rad\"},\"text_align\":\"center\",\"text_alpha\":{\"value\":0.1},\"text_baseline\":\"top\",\"text_color\":{\"field\":\"color\"},\"text_font_size\":{\"field\":\"size\"},\"x\":{\"field\":\"x\"},\"y\":{\"field\":\"y\"}},\"id\":\"1372\",\"type\":\"Text\"},{\"attributes\":{\"active_drag\":\"auto\",\"active_inspect\":\"auto\",\"active_multi\":null,\"active_scroll\":\"auto\",\"active_tap\":\"auto\"},\"id\":\"1266\",\"type\":\"Toolbar\"},{\"attributes\":{\"source\":{\"id\":\"1369\"}},\"id\":\"1374\",\"type\":\"CDSView\"},{\"attributes\":{\"end_angle\":{\"field\":\"end\",\"units\":\"rad\"},\"fill_color\":{\"value\":\"black\"},\"radius\":{\"field\":\"radius\",\"units\":\"data\"},\"start_angle\":{\"field\":\"start\",\"units\":\"rad\"},\"x\":{\"field\":\"x\"},\"y\":{\"field\":\"y\"}},\"id\":\"1275\",\"type\":\"Wedge\"},{\"attributes\":{},\"id\":\"1393\",\"type\":\"Selection\"},{\"attributes\":{\"data_source\":{\"id\":\"1273\"},\"glyph\":{\"id\":\"1275\"},\"hover_glyph\":null,\"muted_glyph\":null,\"name\":\"needle_renderer\",\"nonselection_glyph\":{\"id\":\"1276\"},\"selection_glyph\":null,\"view\":{\"id\":\"1278\"}},\"id\":\"1277\",\"type\":\"GlyphRenderer\"},{\"attributes\":{},\"id\":\"1389\",\"type\":\"BasicTickFormatter\"},{\"attributes\":{\"formatter\":{\"id\":\"1387\"},\"ticker\":{\"id\":\"1301\"},\"visible\":false},\"id\":\"1300\",\"type\":\"LinearAxis\"},{\"attributes\":{},\"id\":\"1391\",\"type\":\"BasicTickFormatter\"},{\"attributes\":{\"line_color\":{\"field\":\"color\"},\"line_width\":{\"value\":2},\"x0\":{\"field\":\"x0\"},\"x1\":{\"field\":\"x1\"},\"y0\":{\"field\":\"y0\"},\"y1\":{\"field\":\"y1\"}},\"id\":\"1281\",\"type\":\"Segment\"},{\"attributes\":{\"text\":\"\"},\"id\":\"1378\",\"type\":\"Title\"},{\"attributes\":{},\"id\":\"1387\",\"type\":\"BasicTickFormatter\"},{\"attributes\":{\"source\":{\"id\":\"1273\"}},\"id\":\"1278\",\"type\":\"CDSView\"},{\"attributes\":{},\"id\":\"1385\",\"type\":\"BasicTickFormatter\"},{\"attributes\":{\"axis\":{\"id\":\"1262\"},\"dimension\":1,\"ticker\":null,\"visible\":false},\"id\":\"1265\",\"type\":\"Grid\"},{\"attributes\":{\"data\":{\"color\":[\"gold\",\"red\"],\"x0\":[-0.6306758074312862,0.5990235985155861],\"x1\":[-0.5045406459450289,0.4792188788124689],\"y0\":[0.776046407066546,0.8007313709487333],\"y1\":[0.6208371256532369,0.6405850967589867]},\"name\":\"threshold_source\",\"selected\":{\"id\":\"1397\"},\"selection_policy\":{\"id\":\"1398\"}},\"id\":\"1279\",\"type\":\"ColumnDataSource\"},{\"attributes\":{},\"id\":\"1383\",\"type\":\"BasicTickFormatter\"},{\"attributes\":{\"children\":[{\"id\":\"1249\"},{\"id\":\"1291\"},{\"id\":\"1333\"}],\"margin\":[0,0,0,0],\"name\":\"Row01510\",\"tags\":[\"embedded\"]},\"id\":\"1248\",\"type\":\"Row\"},{\"attributes\":{\"text\":\"\"},\"id\":\"1380\",\"type\":\"Title\"},{\"attributes\":{},\"id\":\"1412\",\"type\":\"UnionRenderers\"},{\"attributes\":{\"data\":{\"color\":[\"black\",\"green\",\"black\",\"black\"],\"rot\":{\"__ndarray__\":\"AAAAAAAAAAAAAAAAAAAAAMU1MUdiASpAvhtqbi1jF0A=\",\"dtype\":\"float64\",\"order\":\"little\",\"shape\":[4]},\"size\":[\"20.0pt\",\"30.0pt\",\"11.25pt\",\"11.25pt\"],\"text\":[\"Failure Rate\",\"10%\",\"0%\",\"100%\"],\"x\":{\"__ndarray__\":\"AAAAAAAAAAAAAAAAAAAAABR1XKsGGuq/EXVcqwYa6j8=\",\"dtype\":\"float64\",\"order\":\"little\",\"shape\":[4]},\"y\":{\"__ndarray__\":\"mpmZmZmZyb8AAAAAAADgvz085YTCV9i/RjzlhMJX2L8=\",\"dtype\":\"float64\",\"order\":\"little\",\"shape\":[4]}},\"name\":\"label_source\",\"selected\":{\"id\":\"1399\"},\"selection_policy\":{\"id\":\"1400\"}},\"id\":\"1285\",\"type\":\"ColumnDataSource\"},{\"attributes\":{},\"id\":\"1407\",\"type\":\"Selection\"},{\"attributes\":{\"source\":{\"id\":\"1279\"}},\"id\":\"1284\",\"type\":\"CDSView\"},{\"attributes\":{},\"id\":\"1408\",\"type\":\"UnionRenderers\"},{\"attributes\":{\"data\":{\"color\":[\"red\",\"whitesmoke\"],\"ends\":{\"__ndarray__\":\"CIGfX+uCGEC+G2puLWMXQA==\",\"dtype\":\"float64\",\"order\":\"little\",\"shape\":[2]},\"radius\":{\"__ndarray__\":\"mpmZmZmZ6T+amZmZmZnpPw==\",\"dtype\":\"float64\",\"order\":\"little\",\"shape\":[2]},\"starts\":{\"__ndarray__\":\"fyogcuO4I0AIgZ9f64IYQA==\",\"dtype\":\"float64\",\"order\":\"little\",\"shape\":[2]}},\"name\":\"annulus_source\",\"selected\":{\"id\":\"1409\"},\"selection_policy\":{\"id\":\"1410\"}},\"id\":\"1351\",\"type\":\"ColumnDataSource\"},{\"attributes\":{},\"id\":\"1413\",\"type\":\"Selection\"},{\"attributes\":{},\"id\":\"1381\",\"type\":\"BasicTickFormatter\"},{\"attributes\":{},\"id\":\"1414\",\"type\":\"UnionRenderers\"},{\"attributes\":{\"data_source\":{\"id\":\"1351\"},\"glyph\":{\"id\":\"1353\"},\"hover_glyph\":null,\"muted_glyph\":null,\"nonselection_glyph\":{\"id\":\"1354\"},\"selection_glyph\":null,\"view\":{\"id\":\"1356\"}},\"id\":\"1355\",\"type\":\"GlyphRenderer\"},{\"attributes\":{\"angle\":{\"field\":\"rot\",\"units\":\"rad\"},\"text_align\":\"center\",\"text_baseline\":\"top\",\"text_color\":{\"field\":\"color\"},\"text_font_size\":{\"field\":\"size\"},\"x\":{\"field\":\"x\"},\"y\":{\"field\":\"y\"}},\"id\":\"1287\",\"type\":\"Text\"},{\"attributes\":{},\"id\":\"1415\",\"type\":\"Selection\"},{\"attributes\":{\"direction\":\"clock\",\"end_angle\":{\"field\":\"ends\",\"units\":\"rad\"},\"fill_color\":{\"field\":\"color\"},\"inner_radius\":{\"field\":\"radius\",\"units\":\"data\"},\"line_color\":{\"value\":\"gray\"},\"outer_radius\":{\"units\":\"data\",\"value\":1},\"start_angle\":{\"field\":\"starts\",\"units\":\"rad\"},\"x\":{\"value\":0},\"y\":{\"value\":0}},\"id\":\"1353\",\"type\":\"AnnularWedge\"},{\"attributes\":{\"line_alpha\":{\"value\":0.1},\"line_color\":{\"field\":\"color\"},\"line_width\":{\"value\":2},\"x0\":{\"field\":\"x0\"},\"x1\":{\"field\":\"x1\"},\"y0\":{\"field\":\"y0\"},\"y1\":{\"field\":\"y1\"}},\"id\":\"1282\",\"type\":\"Segment\"},{\"attributes\":{},\"id\":\"1416\",\"type\":\"UnionRenderers\"},{\"attributes\":{\"axis\":{\"id\":\"1300\"},\"ticker\":null,\"visible\":false},\"id\":\"1303\",\"type\":\"Grid\"},{\"attributes\":{\"direction\":\"clock\",\"end_angle\":{\"field\":\"ends\",\"units\":\"rad\"},\"fill_alpha\":{\"value\":0.1},\"fill_color\":{\"field\":\"color\"},\"inner_radius\":{\"field\":\"radius\",\"units\":\"data\"},\"line_alpha\":{\"value\":0.1},\"line_color\":{\"value\":\"gray\"},\"outer_radius\":{\"units\":\"data\",\"value\":1},\"start_angle\":{\"field\":\"starts\",\"units\":\"rad\"},\"x\":{\"value\":0},\"y\":{\"value\":0}},\"id\":\"1354\",\"type\":\"AnnularWedge\"},{\"attributes\":{\"angle\":{\"field\":\"rot\",\"units\":\"rad\"},\"text_align\":\"center\",\"text_alpha\":{\"value\":0.1},\"text_baseline\":\"top\",\"text_color\":{\"field\":\"color\"},\"text_font_size\":{\"field\":\"size\"},\"x\":{\"field\":\"x\"},\"y\":{\"field\":\"y\"}},\"id\":\"1288\",\"type\":\"Text\"},{\"attributes\":{\"formatter\":{\"id\":\"1381\"},\"ticker\":{\"id\":\"1263\"},\"visible\":false},\"id\":\"1262\",\"type\":\"LinearAxis\"},{\"attributes\":{\"source\":{\"id\":\"1285\"}},\"id\":\"1290\",\"type\":\"CDSView\"},{\"attributes\":{\"start\":-1},\"id\":\"1292\",\"type\":\"Range1d\"},{\"attributes\":{\"start\":-1},\"id\":\"1250\",\"type\":\"Range1d\"},{\"attributes\":{\"below\":[{\"id\":\"1342\"}],\"center\":[{\"id\":\"1345\"},{\"id\":\"1349\"}],\"left\":[{\"id\":\"1346\"}],\"margin\":[5,10,5,10],\"name\":\"Failure Rate\",\"outline_line_color\":null,\"plot_height\":250,\"plot_width\":250,\"renderers\":[{\"id\":\"1355\"},{\"id\":\"1361\"},{\"id\":\"1367\"},{\"id\":\"1373\"}],\"sizing_mode\":\"fixed\",\"title\":{\"id\":\"1380\"},\"toolbar\":{\"id\":\"1350\"},\"toolbar_location\":null,\"x_range\":{\"id\":\"1334\"},\"x_scale\":{\"id\":\"1338\"},\"y_range\":{\"id\":\"1336\"},\"y_scale\":{\"id\":\"1340\"}},\"id\":\"1333\",\"subtype\":\"Figure\",\"type\":\"Plot\"},{\"attributes\":{},\"id\":\"1298\",\"type\":\"LinearScale\"},{\"attributes\":{\"axis\":{\"id\":\"1258\"},\"ticker\":null,\"visible\":false},\"id\":\"1261\",\"type\":\"Grid\"},{\"attributes\":{\"start\":-1},\"id\":\"1294\",\"type\":\"Range1d\"},{\"attributes\":{},\"id\":\"1296\",\"type\":\"LinearScale\"},{\"attributes\":{},\"id\":\"1402\",\"type\":\"UnionRenderers\"},{\"attributes\":{},\"id\":\"1403\",\"type\":\"Selection\"},{\"attributes\":{\"source\":{\"id\":\"1321\"}},\"id\":\"1326\",\"type\":\"CDSView\"},{\"attributes\":{},\"id\":\"1404\",\"type\":\"UnionRenderers\"},{\"attributes\":{},\"id\":\"1401\",\"type\":\"Selection\"},{\"attributes\":{\"data\":{\"color\":[\"gold\",\"whitesmoke\"],\"ends\":{\"__ndarray__\":\"ovp/nqlZIEC+G2puLWMXQA==\",\"dtype\":\"float64\",\"order\":\"little\",\"shape\":[2]},\"radius\":{\"__ndarray__\":\"mpmZmZmZ6T+amZmZmZnpPw==\",\"dtype\":\"float64\",\"order\":\"little\",\"shape\":[2]},\"starts\":{\"__ndarray__\":\"fyogcuO4I0Ci+n+eqVkgQA==\",\"dtype\":\"float64\",\"order\":\"little\",\"shape\":[2]}},\"name\":\"annulus_source\",\"selected\":{\"id\":\"1401\"},\"selection_policy\":{\"id\":\"1402\"}},\"id\":\"1309\",\"type\":\"ColumnDataSource\"},{\"attributes\":{},\"id\":\"1400\",\"type\":\"UnionRenderers\"},{\"attributes\":{\"direction\":\"clock\",\"end_angle\":{\"field\":\"ends\",\"units\":\"rad\"},\"fill_color\":{\"field\":\"color\"},\"inner_radius\":{\"field\":\"radius\",\"units\":\"data\"},\"line_color\":{\"value\":\"gray\"},\"outer_radius\":{\"units\":\"data\",\"value\":1},\"start_angle\":{\"field\":\"starts\",\"units\":\"rad\"},\"x\":{\"value\":0},\"y\":{\"value\":0}},\"id\":\"1311\",\"type\":\"AnnularWedge\"},{\"attributes\":{},\"id\":\"1399\",\"type\":\"Selection\"},{\"attributes\":{\"source\":{\"id\":\"1309\"}},\"id\":\"1314\",\"type\":\"CDSView\"},{\"attributes\":{\"data\":{\"end\":{\"__ndarray__\":\"gp8qDcK7JkA=\",\"dtype\":\"float64\",\"order\":\"little\",\"shape\":[1]},\"radius\":{\"__ndarray__\":\"zczMzMzM7D8=\",\"dtype\":\"float64\",\"order\":\"little\",\"shape\":[1]},\"start\":{\"__ndarray__\":\"Tmz32Y6IJkA=\",\"dtype\":\"float64\",\"order\":\"little\",\"shape\":[1]},\"x\":{\"__ndarray__\":\"9GpoN28u0r8=\",\"dtype\":\"float64\",\"order\":\"little\",\"shape\":[1]},\"y\":{\"__ndarray__\":\"LZjFgN9T6z8=\",\"dtype\":\"float64\",\"order\":\"little\",\"shape\":[1]}},\"name\":\"needle_source\",\"selected\":{\"id\":\"1403\"},\"selection_policy\":{\"id\":\"1404\"}},\"id\":\"1315\",\"type\":\"ColumnDataSource\"},{\"attributes\":{\"data_source\":{\"id\":\"1309\"},\"glyph\":{\"id\":\"1311\"},\"hover_glyph\":null,\"muted_glyph\":null,\"nonselection_glyph\":{\"id\":\"1312\"},\"selection_glyph\":null,\"view\":{\"id\":\"1314\"}},\"id\":\"1313\",\"type\":\"GlyphRenderer\"},{\"attributes\":{\"direction\":\"clock\",\"end_angle\":{\"field\":\"ends\",\"units\":\"rad\"},\"fill_alpha\":{\"value\":0.1},\"fill_color\":{\"field\":\"color\"},\"inner_radius\":{\"field\":\"radius\",\"units\":\"data\"},\"line_alpha\":{\"value\":0.1},\"line_color\":{\"value\":\"gray\"},\"outer_radius\":{\"units\":\"data\",\"value\":1},\"start_angle\":{\"field\":\"starts\",\"units\":\"rad\"},\"x\":{\"value\":0},\"y\":{\"value\":0}},\"id\":\"1312\",\"type\":\"AnnularWedge\"},{\"attributes\":{\"end_angle\":{\"field\":\"end\",\"units\":\"rad\"},\"fill_color\":{\"value\":\"black\"},\"radius\":{\"field\":\"radius\",\"units\":\"data\"},\"start_angle\":{\"field\":\"start\",\"units\":\"rad\"},\"x\":{\"field\":\"x\"},\"y\":{\"field\":\"y\"}},\"id\":\"1317\",\"type\":\"Wedge\"},{\"attributes\":{\"source\":{\"id\":\"1315\"}},\"id\":\"1320\",\"type\":\"CDSView\"},{\"attributes\":{\"data_source\":{\"id\":\"1315\"},\"glyph\":{\"id\":\"1317\"},\"hover_glyph\":null,\"muted_glyph\":null,\"name\":\"needle_renderer\",\"nonselection_glyph\":{\"id\":\"1318\"},\"selection_glyph\":null,\"view\":{\"id\":\"1320\"}},\"id\":\"1319\",\"type\":\"GlyphRenderer\"},{\"attributes\":{\"data\":{\"color\":[\"red\"],\"x0\":[0.5990235985155861],\"x1\":[0.4792188788124689],\"y0\":[0.8007313709487333],\"y1\":[0.6405850967589867]},\"name\":\"threshold_source\",\"selected\":{\"id\":\"1405\"},\"selection_policy\":{\"id\":\"1406\"}},\"id\":\"1321\",\"type\":\"ColumnDataSource\"},{\"attributes\":{\"end_angle\":{\"field\":\"end\",\"units\":\"rad\"},\"fill_alpha\":{\"value\":0.1},\"fill_color\":{\"value\":\"black\"},\"line_alpha\":{\"value\":0.1},\"radius\":{\"field\":\"radius\",\"units\":\"data\"},\"start_angle\":{\"field\":\"start\",\"units\":\"rad\"},\"x\":{\"field\":\"x\"},\"y\":{\"field\":\"y\"}},\"id\":\"1276\",\"type\":\"Wedge\"},{\"attributes\":{},\"id\":\"1398\",\"type\":\"UnionRenderers\"},{\"attributes\":{\"end_angle\":{\"field\":\"end\",\"units\":\"rad\"},\"fill_alpha\":{\"value\":0.1},\"fill_color\":{\"value\":\"black\"},\"line_alpha\":{\"value\":0.1},\"radius\":{\"field\":\"radius\",\"units\":\"data\"},\"start_angle\":{\"field\":\"start\",\"units\":\"rad\"},\"x\":{\"field\":\"x\"},\"y\":{\"field\":\"y\"}},\"id\":\"1318\",\"type\":\"Wedge\"},{\"attributes\":{\"line_color\":{\"field\":\"color\"},\"line_width\":{\"value\":2},\"x0\":{\"field\":\"x0\"},\"x1\":{\"field\":\"x1\"},\"y0\":{\"field\":\"y0\"},\"y1\":{\"field\":\"y1\"}},\"id\":\"1323\",\"type\":\"Segment\"},{\"attributes\":{},\"id\":\"1397\",\"type\":\"Selection\"},{\"attributes\":{},\"id\":\"1259\",\"type\":\"BasicTicker\"},{\"attributes\":{\"direction\":\"clock\",\"end_angle\":{\"field\":\"ends\",\"units\":\"rad\"},\"fill_color\":{\"field\":\"color\"},\"inner_radius\":{\"field\":\"radius\",\"units\":\"data\"},\"line_color\":{\"value\":\"gray\"},\"outer_radius\":{\"units\":\"data\",\"value\":1},\"start_angle\":{\"field\":\"starts\",\"units\":\"rad\"},\"x\":{\"value\":0},\"y\":{\"value\":0}},\"id\":\"1269\",\"type\":\"AnnularWedge\"},{\"attributes\":{\"line_alpha\":{\"value\":0.1},\"line_color\":{\"field\":\"color\"},\"line_width\":{\"value\":2},\"x0\":{\"field\":\"x0\"},\"x1\":{\"field\":\"x1\"},\"y0\":{\"field\":\"y0\"},\"y1\":{\"field\":\"y1\"}},\"id\":\"1324\",\"type\":\"Segment\"},{\"attributes\":{\"direction\":\"clock\",\"end_angle\":{\"field\":\"ends\",\"units\":\"rad\"},\"fill_alpha\":{\"value\":0.1},\"fill_color\":{\"field\":\"color\"},\"inner_radius\":{\"field\":\"radius\",\"units\":\"data\"},\"line_alpha\":{\"value\":0.1},\"line_color\":{\"value\":\"gray\"},\"outer_radius\":{\"units\":\"data\",\"value\":1},\"start_angle\":{\"field\":\"starts\",\"units\":\"rad\"},\"x\":{\"value\":0},\"y\":{\"value\":0}},\"id\":\"1270\",\"type\":\"AnnularWedge\"},{\"attributes\":{\"data\":{\"color\":[\"black\",\"gold\",\"black\",\"black\"],\"rot\":{\"__ndarray__\":\"AAAAAAAAAAAAAAAAAAAAAMU1MUdiASpAvhtqbi1jF0A=\",\"dtype\":\"float64\",\"order\":\"little\",\"shape\":[4]},\"size\":[\"20.0pt\",\"30.0pt\",\"11.25pt\",\"11.25pt\"],\"text\":[\"Failure Rate\",\"42%\",\"0%\",\"100%\"],\"x\":{\"__ndarray__\":\"AAAAAAAAAAAAAAAAAAAAABR1XKsGGuq/EXVcqwYa6j8=\",\"dtype\":\"float64\",\"order\":\"little\",\"shape\":[4]},\"y\":{\"__ndarray__\":\"mpmZmZmZyb8AAAAAAADgvz085YTCV9i/RjzlhMJX2L8=\",\"dtype\":\"float64\",\"order\":\"little\",\"shape\":[4]}},\"name\":\"label_source\",\"selected\":{\"id\":\"1407\"},\"selection_policy\":{\"id\":\"1408\"}},\"id\":\"1327\",\"type\":\"ColumnDataSource\"},{\"attributes\":{\"end_angle\":{\"field\":\"end\",\"units\":\"rad\"},\"fill_alpha\":{\"value\":0.1},\"fill_color\":{\"value\":\"black\"},\"line_alpha\":{\"value\":0.1},\"radius\":{\"field\":\"radius\",\"units\":\"data\"},\"start_angle\":{\"field\":\"start\",\"units\":\"rad\"},\"x\":{\"field\":\"x\"},\"y\":{\"field\":\"y\"}},\"id\":\"1360\",\"type\":\"Wedge\"},{\"attributes\":{},\"id\":\"1254\",\"type\":\"LinearScale\"},{\"attributes\":{},\"id\":\"1256\",\"type\":\"LinearScale\"},{\"attributes\":{\"angle\":{\"field\":\"rot\",\"units\":\"rad\"},\"text_align\":\"center\",\"text_baseline\":\"top\",\"text_color\":{\"field\":\"color\"},\"text_font_size\":{\"field\":\"size\"},\"x\":{\"field\":\"x\"},\"y\":{\"field\":\"y\"}},\"id\":\"1329\",\"type\":\"Text\"},{\"attributes\":{\"end_angle\":{\"field\":\"end\",\"units\":\"rad\"},\"fill_color\":{\"value\":\"black\"},\"radius\":{\"field\":\"radius\",\"units\":\"data\"},\"start_angle\":{\"field\":\"start\",\"units\":\"rad\"},\"x\":{\"field\":\"x\"},\"y\":{\"field\":\"y\"}},\"id\":\"1359\",\"type\":\"Wedge\"}],\"root_ids\":[\"1248\"]},\"title\":\"Bokeh Application\",\"version\":\"2.2.2\"}};\n",
       "    var render_items = [{\"docid\":\"8b6305d5-1818-4fc3-93df-33d09044a208\",\"root_ids\":[\"1248\"],\"roots\":{\"1248\":\"11b677c1-6c95-48f6-82da-a4a0a2533df5\"}}];\n",
       "    root.Bokeh.embed.embed_items_notebook(docs_json, render_items);\n",
       "  }\n",
       "  if (root.Bokeh !== undefined && root.Bokeh.Panel !== undefined && root['echarts'] !== undefined && (root.Bokeh.Models.registered_names().indexOf(\"ipywidgets_bokeh.widget.IPyWidget\") > -1)) {\n",
       "    embed_document(root);\n",
       "  } else {\n",
       "    var attempts = 0;\n",
       "    var timer = setInterval(function(root) {\n",
       "      if (root.Bokeh !== undefined && root.Bokeh.Panel !== undefined && root['echarts'] !== undefined&& (root.Bokeh.Models.registered_names().indexOf(\"ipywidgets_bokeh.widget.IPyWidget\") > -1)) {\n",
       "        clearInterval(timer);\n",
       "        embed_document(root);\n",
       "      } else if (document.readyState == \"complete\") {\n",
       "        attempts++;\n",
       "        if (attempts > 100) {\n",
       "          clearInterval(timer);\n",
       "          console.log(\"Bokeh: ERROR: Unable to run BokehJS code because BokehJS library is missing\");\n",
       "        }\n",
       "      }\n",
       "    }, 10, root)\n",
       "  }\n",
       "})(window);</script>"
      ],
      "text/plain": [
       "Row\n",
       "    [0] Dial(colors=[(0.33, 'green'), ...], name='Failure Rate', value=10)\n",
       "    [1] Dial(colors=[(0.33, 'green'), ...], name='Failure Rate', value=42)\n",
       "    [2] Dial(colors=[(0.33, 'green'), ...], name='Failure Rate', value=93)"
      ]
     },
     "execution_count": 8,
     "metadata": {
      "application/vnd.holoviews_exec.v0+json": {
       "id": "1248"
      }
     },
     "output_type": "execute_result"
    }
   ],
   "source": [
    "dial = pn.indicators.Dial(\n",
    "    name='Failure Rate', value=72, format='{value}%', bounds=(0, 100),\n",
    "    colors=[(0.33, 'green'), (0.66, 'gold'), (1, 'red')]\n",
    ")\n",
    "\n",
    "pn.Row(dial.clone(value=10), dial.clone(value=42), dial.clone(value=93))"
   ]
  },
  {
   "cell_type": "markdown",
   "metadata": {},
   "source": [
    "### Gauge"
   ]
  },
  {
   "cell_type": "code",
   "execution_count": 9,
   "metadata": {},
   "outputs": [
    {
     "data": {},
     "metadata": {},
     "output_type": "display_data"
    },
    {
     "data": {
      "application/vnd.holoviews_exec.v0+json": "",
      "text/html": [
       "<div id='1587'>\n",
       "\n",
       "\n",
       "\n",
       "\n",
       "\n",
       "  <div class=\"bk-root\" id=\"a4f22490-3383-46c1-ac8c-e0374a330864\" data-root-id=\"1587\"></div>\n",
       "</div>\n",
       "<script type=\"application/javascript\">(function(root) {\n",
       "  function embed_document(root) {\n",
       "    var docs_json = {\"2a44160d-d942-4416-876e-01aedc3b73ae\":{\"roots\":{\"references\":[{\"attributes\":{\"children\":[{\"id\":\"1588\"},{\"id\":\"1589\"},{\"id\":\"1590\"}],\"margin\":[0,0,0,0],\"name\":\"Row01517\",\"tags\":[\"embedded\"]},\"id\":\"1587\",\"type\":\"Row\"},{\"attributes\":{\"data\":{\"series\":[{\"axisLabel\":{\"show\":true},\"axisLine\":{\"lineStyle\":{\"color\":[[0.33,\"green\"],[0.66,\"gold\"],[1,\"red\"]],\"width\":10}},\"axisTick\":{\"show\":true},\"data\":[{\"name\":\"Failure Rate\",\"value\":10}],\"detail\":{\"formatter\":\"{value}%\"},\"endAngle\":-45,\"max\":100,\"min\":0,\"name\":\"Gauge\",\"radius\":\"100%\",\"splitLine\":{\"show\":true},\"splitNumber\":10,\"startAngle\":225,\"title\":{\"fontSize\":18,\"fontWeight\":\"bold\"},\"type\":\"gauge\"}],\"tooltip\":{\"formatter\":\"{b} : {c}%\"}},\"height\":300,\"margin\":[5,10,5,10],\"name\":\"Failure Rate\",\"sizing_mode\":\"fixed\",\"width\":300},\"id\":\"1588\",\"type\":\"panel.models.echarts.ECharts\"},{\"attributes\":{\"data\":{\"series\":[{\"axisLabel\":{\"show\":true},\"axisLine\":{\"lineStyle\":{\"color\":[[0.33,\"green\"],[0.66,\"gold\"],[1,\"red\"]],\"width\":10}},\"axisTick\":{\"show\":true},\"data\":[{\"name\":\"Failure Rate\",\"value\":42}],\"detail\":{\"formatter\":\"{value}%\"},\"endAngle\":-45,\"max\":100,\"min\":0,\"name\":\"Gauge\",\"radius\":\"100%\",\"splitLine\":{\"show\":true},\"splitNumber\":10,\"startAngle\":225,\"title\":{\"fontSize\":18,\"fontWeight\":\"bold\"},\"type\":\"gauge\"}],\"tooltip\":{\"formatter\":\"{b} : {c}%\"}},\"height\":300,\"margin\":[5,10,5,10],\"name\":\"Failure Rate\",\"sizing_mode\":\"fixed\",\"width\":300},\"id\":\"1589\",\"type\":\"panel.models.echarts.ECharts\"},{\"attributes\":{\"data\":{\"series\":[{\"axisLabel\":{\"show\":true},\"axisLine\":{\"lineStyle\":{\"color\":[[0.33,\"green\"],[0.66,\"gold\"],[1,\"red\"]],\"width\":10}},\"axisTick\":{\"show\":true},\"data\":[{\"name\":\"Failure Rate\",\"value\":93}],\"detail\":{\"formatter\":\"{value}%\"},\"endAngle\":-45,\"max\":100,\"min\":0,\"name\":\"Gauge\",\"radius\":\"100%\",\"splitLine\":{\"show\":true},\"splitNumber\":10,\"startAngle\":225,\"title\":{\"fontSize\":18,\"fontWeight\":\"bold\"},\"type\":\"gauge\"}],\"tooltip\":{\"formatter\":\"{b} : {c}%\"}},\"height\":300,\"margin\":[5,10,5,10],\"name\":\"Failure Rate\",\"sizing_mode\":\"fixed\",\"width\":300},\"id\":\"1590\",\"type\":\"panel.models.echarts.ECharts\"}],\"root_ids\":[\"1587\"]},\"title\":\"Bokeh Application\",\"version\":\"2.2.2\"}};\n",
       "    var render_items = [{\"docid\":\"2a44160d-d942-4416-876e-01aedc3b73ae\",\"root_ids\":[\"1587\"],\"roots\":{\"1587\":\"a4f22490-3383-46c1-ac8c-e0374a330864\"}}];\n",
       "    root.Bokeh.embed.embed_items_notebook(docs_json, render_items);\n",
       "  }\n",
       "  if (root.Bokeh !== undefined && root.Bokeh.Panel !== undefined && root['echarts'] !== undefined && (root.Bokeh.Models.registered_names().indexOf(\"ipywidgets_bokeh.widget.IPyWidget\") > -1)) {\n",
       "    embed_document(root);\n",
       "  } else {\n",
       "    var attempts = 0;\n",
       "    var timer = setInterval(function(root) {\n",
       "      if (root.Bokeh !== undefined && root.Bokeh.Panel !== undefined && root['echarts'] !== undefined&& (root.Bokeh.Models.registered_names().indexOf(\"ipywidgets_bokeh.widget.IPyWidget\") > -1)) {\n",
       "        clearInterval(timer);\n",
       "        embed_document(root);\n",
       "      } else if (document.readyState == \"complete\") {\n",
       "        attempts++;\n",
       "        if (attempts > 100) {\n",
       "          clearInterval(timer);\n",
       "          console.log(\"Bokeh: ERROR: Unable to run BokehJS code because BokehJS library is missing\");\n",
       "        }\n",
       "      }\n",
       "    }, 10, root)\n",
       "  }\n",
       "})(window);</script>"
      ],
      "text/plain": [
       "Row\n",
       "    [0] Gauge(colors=[(0.33, 'green'), ...], name='Failure Rate', value=10)\n",
       "    [1] Gauge(colors=[(0.33, 'green'), ...], name='Failure Rate', value=42)\n",
       "    [2] Gauge(colors=[(0.33, 'green'), ...], name='Failure Rate', value=93)"
      ]
     },
     "execution_count": 9,
     "metadata": {
      "application/vnd.holoviews_exec.v0+json": {
       "id": "1587"
      }
     },
     "output_type": "execute_result"
    }
   ],
   "source": [
    "gauge = pn.indicators.Gauge(\n",
    "    name='Failure Rate', value=72, format='{value}%',\n",
    "    colors=[(.33, 'green'), (.66, 'gold'), (1, 'red')]\n",
    ")\n",
    "\n",
    "pn.Row(gauge.clone(value=10), gauge.clone(value=42), gauge.clone(value=93))"
   ]
  },
  {
   "cell_type": "markdown",
   "metadata": {},
   "source": [
    "### Number"
   ]
  },
  {
   "cell_type": "code",
   "execution_count": 10,
   "metadata": {},
   "outputs": [
    {
     "data": {},
     "metadata": {},
     "output_type": "display_data"
    },
    {
     "data": {
      "application/vnd.holoviews_exec.v0+json": "",
      "text/html": [
       "<div id='1593'>\n",
       "\n",
       "\n",
       "\n",
       "\n",
       "\n",
       "  <div class=\"bk-root\" id=\"17e58a77-de7c-4dee-bbe6-6556cb7888be\" data-root-id=\"1593\"></div>\n",
       "</div>\n",
       "<script type=\"application/javascript\">(function(root) {\n",
       "  function embed_document(root) {\n",
       "    var docs_json = {\"ba190e8c-a872-44c2-b610-e2bb358a000d\":{\"roots\":{\"references\":[{\"attributes\":{\"margin\":[5,10,5,10],\"sizing_mode\":\"fixed\",\"text\":\"&lt;div style=&quot;font-size: 18pt; color: green&quot;&gt;Failure Rate&lt;/div&gt;\\n&lt;div style=&quot;font-size: 54pt; color: green&quot;&gt;10%&lt;/div&gt;\"},\"id\":\"1594\",\"type\":\"panel.models.markup.HTML\"},{\"attributes\":{\"margin\":[5,10,5,10],\"sizing_mode\":\"fixed\",\"text\":\"&lt;div style=&quot;font-size: 18pt; color: red&quot;&gt;Failure Rate&lt;/div&gt;\\n&lt;div style=&quot;font-size: 54pt; color: red&quot;&gt;93%&lt;/div&gt;\"},\"id\":\"1596\",\"type\":\"panel.models.markup.HTML\"},{\"attributes\":{\"children\":[{\"id\":\"1594\"},{\"id\":\"1595\"},{\"id\":\"1596\"}],\"margin\":[0,0,0,0],\"name\":\"Row01524\",\"tags\":[\"embedded\"]},\"id\":\"1593\",\"type\":\"Row\"},{\"attributes\":{\"margin\":[5,10,5,10],\"sizing_mode\":\"fixed\",\"text\":\"&lt;div style=&quot;font-size: 18pt; color: gold&quot;&gt;Failure Rate&lt;/div&gt;\\n&lt;div style=&quot;font-size: 54pt; color: gold&quot;&gt;42%&lt;/div&gt;\"},\"id\":\"1595\",\"type\":\"panel.models.markup.HTML\"}],\"root_ids\":[\"1593\"]},\"title\":\"Bokeh Application\",\"version\":\"2.2.2\"}};\n",
       "    var render_items = [{\"docid\":\"ba190e8c-a872-44c2-b610-e2bb358a000d\",\"root_ids\":[\"1593\"],\"roots\":{\"1593\":\"17e58a77-de7c-4dee-bbe6-6556cb7888be\"}}];\n",
       "    root.Bokeh.embed.embed_items_notebook(docs_json, render_items);\n",
       "  }\n",
       "  if (root.Bokeh !== undefined && root.Bokeh.Panel !== undefined && root['echarts'] !== undefined && (root.Bokeh.Models.registered_names().indexOf(\"ipywidgets_bokeh.widget.IPyWidget\") > -1)) {\n",
       "    embed_document(root);\n",
       "  } else {\n",
       "    var attempts = 0;\n",
       "    var timer = setInterval(function(root) {\n",
       "      if (root.Bokeh !== undefined && root.Bokeh.Panel !== undefined && root['echarts'] !== undefined&& (root.Bokeh.Models.registered_names().indexOf(\"ipywidgets_bokeh.widget.IPyWidget\") > -1)) {\n",
       "        clearInterval(timer);\n",
       "        embed_document(root);\n",
       "      } else if (document.readyState == \"complete\") {\n",
       "        attempts++;\n",
       "        if (attempts > 100) {\n",
       "          clearInterval(timer);\n",
       "          console.log(\"Bokeh: ERROR: Unable to run BokehJS code because BokehJS library is missing\");\n",
       "        }\n",
       "      }\n",
       "    }, 10, root)\n",
       "  }\n",
       "})(window);</script>"
      ],
      "text/plain": [
       "Row\n",
       "    [0] Number(colors=[(33, 'green'), ...], format='{value}%', name='Failure Rate', value=10)\n",
       "    [1] Number(colors=[(33, 'green'), ...], format='{value}%', name='Failure Rate', value=42)\n",
       "    [2] Number(colors=[(33, 'green'), ...], format='{value}%', name='Failure Rate', value=93)"
      ]
     },
     "execution_count": 10,
     "metadata": {
      "application/vnd.holoviews_exec.v0+json": {
       "id": "1593"
      }
     },
     "output_type": "execute_result"
    }
   ],
   "source": [
    "number = pn.indicators.Number(\n",
    "    name='Failure Rate', value=72, format='{value}%',\n",
    "    colors=[(33, 'green'), (66, 'gold'), (100, 'red')]\n",
    ")\n",
    "\n",
    "pn.Row(number.clone(value=10), number.clone(value=42), number.clone(value=93))"
   ]
  },
  {
   "cell_type": "markdown",
   "metadata": {},
   "source": [
    "## Deferred loading\n",
    "\n",
    "Another useful bit of functionality for making apps feel more responsive, particularly during initial rendering, is the new `pn.state.onload` method, which allows scheduling a task once the page is rendered. In this way developers can defer long running computations until after the initial app is rendered, so that the user actually sees something on screen from the start. As a simple example, you might have a Column with a message indicating that the app is still loading, which is then replaced with the real contents once the application is rendered:\n",
    "\n",
    "```python\n",
    "column = pn.Column('Loading...')\n",
    "\n",
    "def load_data():\n",
    "    ... # Load some data\n",
    "    column[:] = ... # Replace contents\n",
    "\n",
    "pn.state.onload(load_data)\n",
    "```"
   ]
  },
  {
   "cell_type": "markdown",
   "metadata": {},
   "source": [
    "## Authenticated Apps\n",
    "\n",
    "Another common problem users face when publishing an application is to add some form of authentication in front of it, whether to limit the users that can view the app, provide customized content in the app, or simply to keep track of the users who log in. This release ships with a number of [OAuth](https://oauth.net/2/) providers, which make it extremely easy to put an authenticated login page in front of your app. After registering an application with one of the currently supported identity providers:\n",
    "\n",
    "* `azure`: Azure Active Directory\n",
    "* `bitbucket`: Bitbucket\n",
    "* `github`: GitHub\n",
    "* `gitlab`: GitLab\n",
    "* `google`: Google\n",
    "* `okta`: Okta\n",
    "\n",
    "you can pass in the OAuth configuration as CLI options to `panel serve`, via environment variables, or you can configure it directly on `pn.config`. Once configured, the user will be prompted to log in when visiting the app and the information in the returned token will be available from the `pn.state.user` and `pn.state.user_info` objects. Read more about [authentication in our user guide](https://panel.holoviz.org/user_guide/Authentication.html)."
   ]
  },
  {
   "cell_type": "markdown",
   "metadata": {},
   "source": [
    "## Read and write the URL\n",
    "\n",
    "Being able to manipulate the URL bar directly from Python makes a wide range of functionality possible in your apps. The new `Location` component which mirrors the Javascript `window.location` object makes this possible and can be accessed from `pn.state.location` in a Panel application. Not only can you now forward the user to a new location by updating the url, but you can sync the query parameters with some state in your application, letting your users share links to the application that persist some of the state. That way users can configure your app for their usage, then save or send a URL that lets the same state be restored when the URL is visited.\n",
    "\n",
    "You can manipulate the parameters on the Location component directly, which will then be reflected in the URL bar in the browser:"
   ]
  },
  {
   "cell_type": "code",
   "execution_count": 11,
   "metadata": {},
   "outputs": [
    {
     "data": {
      "text/plain": [
       "Location(hash='', hostname='', href='', name='Location01452', pathname='', port='', protocol='', reload=False, search='')"
      ]
     },
     "execution_count": 11,
     "metadata": {},
     "output_type": "execute_result"
    }
   ],
   "source": [
    "pn.state.location"
   ]
  },
  {
   "cell_type": "markdown",
   "metadata": {},
   "source": [
    "Or use the `update_query` method to easily update the URL by passing explicit keywords:\n",
    "    \n",
    "```python\n",
    "pn.state.location.update_query(a=1, b=3)\n",
    "```\n",
    "\n",
    "You can even link the location state automatically with a parameter, e.g. a widget value, which means that on load the widget will reflect the URL parameter and subsequently automatically updates the URL with the current widget value so that the state can be restored when the URL is visited: \n",
    "\n",
    "```python\n",
    "widget = pn.widgets.FloatSlider(name='FloatSlider')\n",
    "pn.state.location.sync(widget, ['value'])\n",
    "```"
   ]
  },
  {
   "cell_type": "markdown",
   "metadata": {},
   "source": [
    "## Serving static assets\n",
    "\n",
    "Another feature users have frequently requested is the ability to publish additional static resources (data files, images, or other media or downloadable objects) alongside the apps and dashboards. This release provides the ability to easily specify static directories to serve, both on the commandline:\n",
    "\n",
    "```bash\n",
    "panel serve some_script.py --static-dirs assets=./assets\n",
    "```\n",
    "\n",
    "and programmatically:\n",
    "\n",
    "```python\n",
    "pn.serve(panel_obj, static_dirs={'assets': './assets'})\n",
    "```\n",
    "\n",
    "In both cases the `./assets` folder will be served alongside the dashboard at the `/assets` endpoint.\n",
    "\n",
    "\n",
    "## REST APIs\n",
    "\n",
    "In addition to serving static assets, you may also want to publish a live REST API alongside your app, to allow automated querying of the state of the app or some data from it. Panel now ships with an extensible set of REST providers that make it trivial to serve up some data or other info with your app. By default Panel ships with two REST providers:\n",
    "\n",
    "### Param REST Provider\n",
    "\n",
    "The Param REST provider is an easy entry point to publishing data with Panel. Using the `pn.state.publish` method you can set up an endpoint to publish the parameters of any Parameterized object. As a very simple example, if you serve the following application with `panel serve app.py --rest-provider param`:\n",
    "\n",
    "```python\n",
    "import panel as pn\n",
    "\n",
    "slider = pn.widgets.FloatSlider()\n",
    "pn.state.publish('slider', slider, ['value'])\n",
    "\n",
    "slider.servable()\n",
    "```\n",
    "\n",
    "You will be able to visit: `http://localhost:5006/rest/freq`, which will return the current slider value:\n",
    "\n",
    "```json\n",
    "{\"value\": 0}\n",
    "```\n",
    "\n",
    "This of course works not only for widgets and other panel components, but any Parameterized class, as long as the parameters are JSON serializable.\n",
    "\n",
    "### Tranquilizer REST Provider\n",
    "\n",
    "The Param provider makes it easy to publish parameter values as-is, while the new [Tranquilizer](https://github.com/ContinuumIO/tranquilizer/) provider makes it easy to publish functions that compute results before returning them. Below we declare a select widget that we sync with the global cache. In the tranquilized `order` function, we then return a string whose contents depend on the most recently selected order:\n",
    "\n",
    "```python\n",
    "import panel as pn\n",
    "\n",
    "from tranquilizer import tranquilize\n",
    "\n",
    "select = pn.widgets.Select(options=['Cheddar', 'Mozarella', 'Parmeggiano'], value='Cheddar')\n",
    "\n",
    "def update_cache(event):\n",
    "    pn.state.cache['cheese'] = event.new\n",
    "\n",
    "select.param.watch(update_cache, 'value')\n",
    "\n",
    "@tranquilize()\n",
    "def order():\n",
    "    '''I'd like to buy some cheese!'''\n",
    "    return f\"I'm afraid we're fresh out of {pn.state.cache['cheese'].lower()}, sir.\"\n",
    "\n",
    "select.servable()\n",
    "```\n",
    "\n",
    "Now when we serve this app with `panel serve app.py --rest-provider tranquilizer`, visit `http://localhost:5006`, select a cheese, and hit `http://localhost:5006/rest/order` we get back:\n",
    "\n",
    "    \"I'm afraid we're fresh out of mozarella, sir.\"\n",
    "    \n",
    "Both of these providers make it very easy to set up a REST endpoint, and other providers can easily be registered."
   ]
  },
  {
   "cell_type": "markdown",
   "metadata": {},
   "source": [
    "## Roadmap\n",
    "\n",
    "This release has included a ton of great features and we have many more features planned. Some highlights include:\n",
    "\n",
    "#### Custom components\n",
    "\n",
    "We want to provide expert users with the power to develop their own HTML objects (including custom [WebComponents](https://www.webcomponents.org/introduction)), then have them appear as Panel components synchronized bi-directionally with the HTML state. To allow this we are working on an API to connect attributes and properties on HTML elements into Python objects, allowing custom components (e.g. new widget types) to be used within Panel just like existing widgets and panes are.\n",
    "\n",
    "#### Templated layouts\n",
    "\n",
    "Complementing the ability to define individual custom components, we want to allow users to declare custom layouts by writing small HTML template strings the components will be inserted into. This will make it possible to leverage custom CSS or JS frameworks, e.g. to build custom types of responsive grids that can be used just like the current Panel layouts (Row, Column, etc.).\n",
    "\n",
    "#### Responsive grids\n",
    "\n",
    "In addition to allowing users to build custom layouts using their favorite CSS/JS frameworks, we also want to ship a well-suported responsive grid layout that reflows components on the page based on the size of the browser tab. Reflowing will make it much easier to provide a great experience on mobile devices.\n",
    "\n",
    "#### Better debugging and profiling\n",
    "\n",
    "We also want to make the process of desiging, building, debugging, and optimizing apps easier. We plan to develop new tools to visualize Panel and Param callback and dependency graphs, to help developers understand how data and events propagate through their panels. To help them identify performance bottlenecks, these graphs will be annotated with timing information so that the slow steps can easily be identified.\n",
    "\n",
    "#### Documentation overhaul\n",
    "\n",
    "As we approach a Panel 1.0 release we want to overhaul the documentation so it becomes much easier to find the information you are looking for.\n",
    "\n",
    "### Help us!\n",
    "\n",
    "Panel is an open-source project and we are always looking for new contributors. Join us the discussion on the [Discourse](https://discourse.holoviz.org/) and we would be very excited to get you started contributing!"
   ]
  }
 ],
 "metadata": {
  "kernelspec": {
   "display_name": "Python 3",
   "language": "python",
   "name": "python3"
  },
  "language_info": {
   "codemirror_mode": {
    "name": "ipython",
    "version": 3
   },
   "file_extension": ".py",
   "mimetype": "text/x-python",
   "name": "python",
   "nbconvert_exporter": "python",
   "pygments_lexer": "ipython3",
   "version": "3.7.5"
  },
  "widgets": {
   "application/vnd.jupyter.widget-state+json": {
    "state": {
     "17dafd60dda64190b034a1776a45dfde": {
      "model_module": "jupyter-leaflet",
      "model_module_version": "^0.12.6",
      "model_name": "LeafletVideoOverlayModel",
      "state": {
       "_model_module_version": "^0.12.6",
       "_view_module_version": "^0.12.6",
       "bounds": [
        [
         13,
         -130
        ],
        [
         32,
         -100
        ]
       ],
       "options": [
        "attribution"
       ],
       "url": "https://www.mapbox.com/bites/00188/patricia_nasa.webm"
      }
     },
     "239f3ea118cd4a9386e29300806fb5fa": {
      "model_module": "@jupyter-widgets/controls",
      "model_module_version": "1.5.0",
      "model_name": "VBoxModel",
      "state": {
       "children": [
        "IPY_MODEL_e08fc8d212cb4deb87a001622ceb8e20",
        "IPY_MODEL_fa90743ac5814be4af2d8fda0ffe1d46"
       ],
       "layout": "IPY_MODEL_3b109fe8d14e43968c03f2b5d692619d"
      }
     },
     "337dd7e424bb468e8b9106494117e64c": {
      "model_module": "jupyter-leaflet",
      "model_module_version": "^0.12.6",
      "model_name": "LeafletAttributionControlModel",
      "state": {
       "_model_module_version": "^0.12.6",
       "_view_module_version": "^0.12.6",
       "options": [
        "position",
        "prefix"
       ],
       "position": "bottomright",
       "prefix": "Leaflet"
      }
     },
     "3b109fe8d14e43968c03f2b5d692619d": {
      "model_module": "@jupyter-widgets/base",
      "model_module_version": "1.2.0",
      "model_name": "LayoutModel",
      "state": {}
     },
     "4ec4206cc3de48beb05002a347d0b772": {
      "model_module": "jupyter-leaflet",
      "model_module_version": "^0.12.6",
      "model_name": "LeafletZoomControlModel",
      "state": {
       "_model_module_version": "^0.12.6",
       "_view_module_version": "^0.12.6",
       "options": [
        "position",
        "zoom_in_text",
        "zoom_in_title",
        "zoom_out_text",
        "zoom_out_title"
       ]
      }
     },
     "594dd833ee0a453eb05056cf99f509e6": {
      "model_module": "jupyter-leaflet",
      "model_module_version": "^0.12.6",
      "model_name": "LeafletMapStyleModel",
      "state": {
       "_model_module_version": "^0.12.6"
      }
     },
     "5b1a390194d047fb9a49576144dd90f3": {
      "model_module": "jupyter-leaflet",
      "model_module_version": "^0.12.6",
      "model_name": "LeafletMapStyleModel",
      "state": {
       "_model_module_version": "^0.12.6"
      }
     },
     "5d954d3149ec41c09a8e4b73bc9bfc3f": {
      "model_module": "jupyter-leaflet",
      "model_module_version": "^0.12.6",
      "model_name": "LeafletTileLayerModel",
      "state": {
       "_model_module_version": "^0.12.6",
       "_view_module_version": "^0.12.6",
       "base": true,
       "max_native_zoom": 18,
       "max_zoom": 19,
       "min_native_zoom": 0,
       "min_zoom": 1,
       "no_wrap": false,
       "options": [
        "attribution",
        "detect_retina",
        "max_native_zoom",
        "max_zoom",
        "min_native_zoom",
        "min_zoom",
        "no_wrap",
        "tile_size",
        "tms"
       ]
      }
     },
     "668f520f47b241b9a765fcc5414c8213": {
      "model_module": "@jupyter-widgets/base",
      "model_module_version": "1.2.0",
      "model_name": "LayoutModel",
      "state": {}
     },
     "7d13592e7a51479b83eef37d17c7ac9e": {
      "model_module": "@jupyter-widgets/controls",
      "model_module_version": "1.5.0",
      "model_name": "DescriptionStyleModel",
      "state": {
       "description_width": ""
      }
     },
     "a194aecb362e44c8bec613062613ed78": {
      "model_module": "@jupyter-widgets/base",
      "model_module_version": "1.2.0",
      "model_name": "LayoutModel",
      "state": {}
     },
     "a34b0eca04c74a679b68f7f67bcae2dc": {
      "model_module": "@jupyter-widgets/base",
      "model_module_version": "1.2.0",
      "model_name": "LayoutModel",
      "state": {}
     },
     "e08fc8d212cb4deb87a001622ceb8e20": {
      "model_module": "@jupyter-widgets/controls",
      "model_module_version": "1.5.0",
      "model_name": "LabelModel",
      "state": {
       "layout": "IPY_MODEL_a34b0eca04c74a679b68f7f67bcae2dc",
       "style": "IPY_MODEL_7d13592e7a51479b83eef37d17c7ac9e",
       "value": "This is a Bokeh/Panel widget inside an ipywidgets layout:"
      }
     },
     "f9a80ee8be6348c6abca75cee0c42927": {
      "model_module": "jupyter-leaflet",
      "model_module_version": "^0.12.6",
      "model_name": "LeafletMapStyleModel",
      "state": {
       "_model_module_version": "^0.12.6",
       "cursor": "move"
      }
     },
     "fa90743ac5814be4af2d8fda0ffe1d46": {
      "model_module": "@bokeh/jupyter_bokeh",
      "model_module_version": "^2.0.2",
      "model_name": "BokehModel",
      "state": {
       "_view_count": 1,
       "combine_events": true,
       "layout": "IPY_MODEL_668f520f47b241b9a765fcc5414c8213",
       "render_bundle": "{\"div\":\"\\n\\n\\n\\n\\n\\n  <div class=\\\"bk-root\\\" id=\\\"b2a97023-70b2-4255-854e-33df3c4c0107\\\" data-root-id=\\\"1252\\\"></div>\\n\",\"docs_json\":{\"9d26f3b7-99e2-4058-87a9-634ad9f0a45d\":{\"roots\":{\"references\":[{\"attributes\":{\"end\":1,\"format\":\"0[.]00\",\"margin\":[5,10,5,10],\"start\":0,\"value\":0,\"value_throttled\":0},\"id\":\"1252\",\"type\":\"Slider\"}],\"root_ids\":[\"1252\"]},\"title\":\"Bokeh Application\",\"version\":\"2.2.2\"}},\"render_items\":[{\"docid\":\"9d26f3b7-99e2-4058-87a9-634ad9f0a45d\",\"root_ids\":[\"1252\"],\"roots\":{\"1252\":\"b2a97023-70b2-4255-854e-33df3c4c0107\"}}]}"
      }
     },
     "fb17a5dc2d494319a766954cb32380a7": {
      "model_module": "jupyter-leaflet",
      "model_module_version": "^0.12.6",
      "model_name": "LeafletMapModel",
      "state": {
       "_model_module_version": "^0.12.6",
       "_view_module_version": "^0.12.6",
       "center": [
        25,
        -115
       ],
       "controls": [
        "IPY_MODEL_4ec4206cc3de48beb05002a347d0b772",
        "IPY_MODEL_337dd7e424bb468e8b9106494117e64c"
       ],
       "default_style": "IPY_MODEL_5b1a390194d047fb9a49576144dd90f3",
       "dragging_style": "IPY_MODEL_f9a80ee8be6348c6abca75cee0c42927",
       "east": -59.76562500000001,
       "fullscreen": false,
       "interpolation": "bilinear",
       "layers": [
        "IPY_MODEL_5d954d3149ec41c09a8e4b73bc9bfc3f",
        "IPY_MODEL_17dafd60dda64190b034a1776a45dfde"
       ],
       "layout": "IPY_MODEL_a194aecb362e44c8bec613062613ed78",
       "modisdate": "yesterday",
       "north": 39.774769485295465,
       "options": [
        "bounce_at_zoom_limits",
        "box_zoom",
        "center",
        "close_popup_on_click",
        "double_click_zoom",
        "dragging",
        "fullscreen",
        "inertia",
        "inertia_deceleration",
        "inertia_max_speed",
        "interpolation",
        "keyboard",
        "keyboard_pan_offset",
        "keyboard_zoom_offset",
        "max_zoom",
        "min_zoom",
        "scroll_wheel_zoom",
        "tap",
        "tap_tolerance",
        "touch_zoom",
        "world_copy_jump",
        "zoom",
        "zoom_animation_threshold",
        "zoom_start"
       ],
       "south": 8.233237111274565,
       "style": "IPY_MODEL_594dd833ee0a453eb05056cf99f509e6",
       "west": -170.244140625,
       "zoom": 4
      }
     }
    },
    "version_major": 2,
    "version_minor": 0
   }
  }
 },
 "nbformat": 4,
 "nbformat_minor": 4
}
